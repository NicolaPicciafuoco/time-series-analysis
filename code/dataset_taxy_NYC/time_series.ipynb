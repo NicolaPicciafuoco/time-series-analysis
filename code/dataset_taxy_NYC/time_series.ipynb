{
 "cells": [
  {
   "metadata": {},
   "cell_type": "markdown",
   "source": "# Time Series Analysis of NYC Yellow Taxi Trips",
   "id": "c49c2a6fa96d0666"
  },
  {
   "metadata": {},
   "cell_type": "code",
   "source": [
    "%pip install kagglehub\n",
    "%pip install pandas\n",
    "%pip install matplotlib\n",
    "%pip install numpy\n",
    "%pip install seaborn\n",
    "%pip install -U jupyter ipywidgets\n",
    "%pip install -U jupyterlab-widgets\n",
    "%pip install statsmodels\n",
    "\n",
    "import seaborn as sns\n",
    "from scipy.stats import norm, alpha\n",
    "import numpy as np\n",
    "import kagglehub\n",
    "import pandas as pd\n",
    "import os\n",
    "import matplotlib.pyplot as plt\n",
    "from datetime import datetime"
   ],
   "id": "e44cab84b86065d4",
   "outputs": [],
   "execution_count": null
  },
  {
   "metadata": {},
   "cell_type": "markdown",
   "source": "## Dataset loading",
   "id": "1e1f46007a19354c"
  },
  {
   "metadata": {},
   "cell_type": "code",
   "source": [
    "# Download latest version\n",
    "path = kagglehub.dataset_download(\"elemento/nyc-yellow-taxi-trip-data\")\n",
    "# print(\"Path to dataset files:\", path) use only for debug\n",
    "file_path1 = os.path.join(path, \"yellow_tripdata_2015-01.csv\")  # Path to the dataset file\n",
    "file_path2 = os.path.join(path, \"yellow_tripdata_2016-01.csv\")  # Path to the dataset file\n",
    "file_path3 = os.path.join(path, \"yellow_tripdata_2016-02.csv\")  # Path to the dataset file\n",
    "file_path4 = os.path.join(path, \"yellow_tripdata_2016-03.csv\")  # Path to the dataset file"
   ],
   "id": "9a572f27766e4304",
   "outputs": [],
   "execution_count": null
  },
  {
   "metadata": {},
   "cell_type": "code",
   "source": [
    "# Columns of interest\n",
    "columns = ['tpep_pickup_datetime', 'tpep_dropoff_datetime', 'trip_distance', 'fare_amount', 'total_amount']\n",
    "\n",
    "# Load the dataset into a pandas dataframe\n",
    "df_2015_01 = pd.read_csv(file_path1, usecols=columns, parse_dates=['tpep_pickup_datetime', 'tpep_dropoff_datetime'])\n",
    "df_2016_01 = pd.read_csv(file_path2, usecols=columns, parse_dates=['tpep_pickup_datetime', 'tpep_dropoff_datetime'])\n",
    "df_2016_02 = pd.read_csv(file_path3, usecols=columns, parse_dates=['tpep_pickup_datetime', 'tpep_dropoff_datetime'])\n",
    "df_2016_03 = pd.read_csv(file_path4, usecols=columns, parse_dates=['tpep_pickup_datetime', 'tpep_dropoff_datetime'])\n",
    "\n",
    "# Concatenate the dataframes\n",
    "df = pd.concat([df_2015_01, df_2016_01, df_2016_02, df_2016_03], ignore_index=True)"
   ],
   "id": "99f9c6723bd9cd6d",
   "outputs": [],
   "execution_count": null
  },
  {
   "metadata": {},
   "cell_type": "markdown",
   "source": "## Data cleaning",
   "id": "f6d3538973ff33d2"
  },
  {
   "metadata": {},
   "cell_type": "code",
   "source": [
    "# Remove rows with missing values\n",
    "df.dropna(subset=['tpep_pickup_datetime', 'tpep_dropoff_datetime', 'trip_distance', 'fare_amount', 'total_amount'], inplace=True)\n",
    "\n",
    "# Remove trips with negative values\n",
    "df = df[(df['trip_distance'] > 0) & (df['fare_amount'] > 0) & (df['total_amount'] > 0)]"
   ],
   "id": "81289552a1e2a23d",
   "outputs": [],
   "execution_count": null
  },
  {
   "metadata": {},
   "cell_type": "markdown",
   "source": "## Time variables creation",
   "id": "3cd83bc44a25e132"
  },
  {
   "metadata": {},
   "cell_type": "code",
   "source": [
    "df['pickup_date'] = df['tpep_pickup_datetime'].dt.date\n",
    "df['pickup_hour'] = df['tpep_pickup_datetime'].dt.hour\n",
    "df['pickup_dayofweek'] = df['tpep_pickup_datetime'].dt.dayofweek # Monday=0, Sunday=6"
   ],
   "id": "fb37d0347921c717",
   "outputs": [],
   "execution_count": null
  },
  {
   "metadata": {},
   "cell_type": "code",
   "source": [
    "# Trip duration calculation\n",
    "df['trip_duration'] = (df['tpep_dropoff_datetime'] - df['tpep_pickup_datetime']).dt.total_seconds() / 60  # in minutes\n",
    "\n",
    "# Remove trips with negative duration or excessive duration (i.e.: more than 4 hours)\n",
    "df = df[(df['trip_duration'] > 0) & (df['trip_duration'] < 240)]"
   ],
   "id": "560bae6cc67c33c9",
   "outputs": [],
   "execution_count": null
  },
  {
   "metadata": {},
   "cell_type": "code",
   "source": [
    "# Calculate the average duration of trips for each day\n",
    "daily_avg_duration = df.groupby('pickup_date')['trip_duration'].mean()\n",
    "\n",
    "# Visualize the trend of the average trip duration\n",
    "plt.figure(figsize=(14, 7))\n",
    "daily_avg_duration.plot()\n",
    "plt.title('Average trip duration per day')\n",
    "plt.xlabel('Date')\n",
    "plt.ylabel('Average trip duration (minutes)')\n",
    "plt.show()"
   ],
   "id": "12463e014a6400ea",
   "outputs": [],
   "execution_count": null
  },
  {
   "metadata": {},
   "cell_type": "markdown",
   "source": "## Stationarity analysis",
   "id": "418529762a417313"
  },
  {
   "metadata": {},
   "cell_type": "code",
   "source": [
    "daily_trips = df.groupby('pickup_date').size()\n",
    "\n",
    "ts_daily_trips = daily_trips.copy()\n",
    "ts_daily_trips.index = pd.to_datetime(ts_daily_trips.index)\n",
    "ts_daily_trips = ts_daily_trips.asfreq('D', fill_value=0)"
   ],
   "id": "767a5cc3b4ac67e6",
   "outputs": [],
   "execution_count": null
  },
  {
   "metadata": {},
   "cell_type": "code",
   "source": [
    "from statsmodels.tsa.stattools import adfuller\n",
    "\n",
    "def test_stationarity(timeseries):\n",
    "    result = adfuller(timeseries)\n",
    "    print('ADF Statistic:', result[0])\n",
    "    print('p-value:', result[1])\n",
    "    for key, value in result[4].items():\n",
    "        print(f'Critical Value ({key}): {value}')\n",
    "\n",
    "test_stationarity(ts_daily_trips)"
   ],
   "id": "6620b3180cc3922e",
   "outputs": [],
   "execution_count": null
  },
  {
   "metadata": {},
   "cell_type": "code",
   "source": [
    "ts_daily_trips_diff = ts_daily_trips.diff().dropna()\n",
    "\n",
    "test_stationarity(ts_daily_trips_diff)"
   ],
   "id": "b23017754169c80",
   "outputs": [],
   "execution_count": null
  },
  {
   "metadata": {},
   "cell_type": "markdown",
   "source": "The $p$-value is less than $0.05$, which means that we can reject the null hypothesis that the time series is non-stationary. The time series is stationary.",
   "id": "db3a8ba06ae16de1"
  },
  {
   "metadata": {},
   "cell_type": "markdown",
   "source": [
    "## ARIMA-SARIMA models\n",
    "### p, d, q parameters"
   ],
   "id": "cbb39161f6cb1fe0"
  },
  {
   "metadata": {},
   "cell_type": "code",
   "source": [
    "from statsmodels.graphics.tsaplots import plot_acf, plot_pacf\n",
    "\n",
    "plt.figure(figsize=(12, 6))\n",
    "plt.subplot(121)\n",
    "plot_acf(ts_daily_trips_diff, ax=plt.gca(), lags=20)\n",
    "plt.subplot(122)\n",
    "plot_pacf(ts_daily_trips_diff, ax=plt.gca(), lags=20)\n",
    "plt.show()"
   ],
   "id": "e43465fc70519b94",
   "outputs": [],
   "execution_count": null
  },
  {
   "metadata": {},
   "cell_type": "code",
   "source": [
    "from statsmodels.tsa.arima.model import ARIMA\n",
    "\n",
    "model = ARIMA(ts_daily_trips_diff, order=(1,1,1))\n",
    "\n",
    "model_fit = model.fit()\n",
    "\n",
    "print(model_fit.summary())"
   ],
   "id": "995e3d7a464375ce",
   "outputs": [],
   "execution_count": null
  },
  {
   "metadata": {},
   "cell_type": "code",
   "source": [
    "# Diagnostic plots\n",
    "model_fit.plot_diagnostics(figsize=(12,8))\n",
    "plt.show()"
   ],
   "id": "e8cb4195f6f8bde6",
   "outputs": [],
   "execution_count": null
  },
  {
   "metadata": {},
   "cell_type": "code",
   "source": [
    "# Forecast\n",
    "forecast = model_fit.forecast(steps=7)\n",
    "print(forecast)\n",
    "\n",
    "plt.figure(figsize=(12,6))\n",
    "plt.plot(ts_daily_trips_diff, label='Observed')\n",
    "plt.plot(forecast.index, forecast.values, label='Prediction', color='red')\n",
    "plt.title('Daily trips forecast')\n",
    "plt.xlabel('Date')\n",
    "plt.ylabel('Number of trips')\n",
    "plt.legend()\n",
    "plt.show()"
   ],
   "id": "171a5f3cbdca39c4",
   "outputs": [],
   "execution_count": null
  },
  {
   "metadata": {},
   "cell_type": "code",
   "source": [
    "import statsmodels.api as sm\n",
    "\n",
    "# SARIMA model with weekly seasonality\n",
    "model = sm.tsa.statespace.SARIMAX(ts_daily_trips_diff, order=(1,1,1), seasonal_order=(1,1,1,7))\n",
    "model_fit = model.fit()\n",
    "\n",
    "# Model summary\n",
    "print(model_fit.summary())\n",
    "\n",
    "# Prediction\n",
    "forecast = model_fit.get_forecast(steps=7)\n",
    "forecast_ci = forecast.conf_int()\n",
    "\n",
    "# Visualization\n",
    "plt.figure(figsize=(12,6))\n",
    "plt.plot(ts_daily_trips_diff, label='Observed')\n",
    "plt.plot(forecast.predicted_mean.index, forecast.predicted_mean.values, label='Predicted', color='red')\n",
    "plt.fill_between(forecast_ci.index, forecast_ci.iloc[:,0], forecast_ci.iloc[:,1], color='pink', alpha=0.3)\n",
    "plt.title('Daily trips forecast with SARIMA')\n",
    "plt.xlabel('Date')\n",
    "plt.ylabel('Number of trips')\n",
    "plt.legend()\n",
    "plt.show()\n"
   ],
   "id": "6e430dd3f36bdb3a",
   "outputs": [],
   "execution_count": null
  }
 ],
 "metadata": {
  "kernelspec": {
   "display_name": "Python 3",
   "language": "python",
   "name": "python3"
  },
  "language_info": {
   "codemirror_mode": {
    "name": "ipython",
    "version": 2
   },
   "file_extension": ".py",
   "mimetype": "text/x-python",
   "name": "python",
   "nbconvert_exporter": "python",
   "pygments_lexer": "ipython2",
   "version": "2.7.6"
  }
 },
 "nbformat": 4,
 "nbformat_minor": 5
}
