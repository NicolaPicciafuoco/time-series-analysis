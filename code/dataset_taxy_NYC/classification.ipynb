{
 "cells": [
  {
   "metadata": {},
   "cell_type": "markdown",
   "source": "# Install the required packages",
   "id": "52e960a7e0c024dd"
  },
  {
   "metadata": {
    "ExecuteTime": {
     "end_time": "2024-11-09T10:19:23.508777Z",
     "start_time": "2024-11-09T10:19:21.227015Z"
    }
   },
   "cell_type": "code",
   "source": [
    "%pip install kagglehub\n",
    "%pip install pandas\n",
    "%pip install -U jupyter ipywidgets\n",
    "%pip install -U jupyterlab-widgets"
   ],
   "id": "42708ba454adccdb",
   "outputs": [
    {
     "name": "stdout",
     "output_type": "stream",
     "text": [
      "Requirement already satisfied: kagglehub in /Users/andreamarini/PycharmProjects/time-series-analysis/.venv/lib/python3.12/site-packages (0.3.4)\r\n",
      "Requirement already satisfied: packaging in /Users/andreamarini/PycharmProjects/time-series-analysis/.venv/lib/python3.12/site-packages (from kagglehub) (24.2)\r\n",
      "Requirement already satisfied: requests in /Users/andreamarini/PycharmProjects/time-series-analysis/.venv/lib/python3.12/site-packages (from kagglehub) (2.32.3)\r\n",
      "Requirement already satisfied: tqdm in /Users/andreamarini/PycharmProjects/time-series-analysis/.venv/lib/python3.12/site-packages (from kagglehub) (4.67.0)\r\n",
      "Requirement already satisfied: charset-normalizer<4,>=2 in /Users/andreamarini/PycharmProjects/time-series-analysis/.venv/lib/python3.12/site-packages (from requests->kagglehub) (3.4.0)\r\n",
      "Requirement already satisfied: idna<4,>=2.5 in /Users/andreamarini/PycharmProjects/time-series-analysis/.venv/lib/python3.12/site-packages (from requests->kagglehub) (3.10)\r\n",
      "Requirement already satisfied: urllib3<3,>=1.21.1 in /Users/andreamarini/PycharmProjects/time-series-analysis/.venv/lib/python3.12/site-packages (from requests->kagglehub) (2.2.3)\r\n",
      "Requirement already satisfied: certifi>=2017.4.17 in /Users/andreamarini/PycharmProjects/time-series-analysis/.venv/lib/python3.12/site-packages (from requests->kagglehub) (2024.8.30)\r\n",
      "Note: you may need to restart the kernel to use updated packages.\n",
      "Requirement already satisfied: pandas in /Users/andreamarini/PycharmProjects/time-series-analysis/.venv/lib/python3.12/site-packages (2.2.3)\r\n",
      "Requirement already satisfied: numpy>=1.26.0 in /Users/andreamarini/PycharmProjects/time-series-analysis/.venv/lib/python3.12/site-packages (from pandas) (2.1.3)\r\n",
      "Requirement already satisfied: python-dateutil>=2.8.2 in /Users/andreamarini/PycharmProjects/time-series-analysis/.venv/lib/python3.12/site-packages (from pandas) (2.9.0.post0)\r\n",
      "Requirement already satisfied: pytz>=2020.1 in /Users/andreamarini/PycharmProjects/time-series-analysis/.venv/lib/python3.12/site-packages (from pandas) (2024.2)\r\n",
      "Requirement already satisfied: tzdata>=2022.7 in /Users/andreamarini/PycharmProjects/time-series-analysis/.venv/lib/python3.12/site-packages (from pandas) (2024.2)\r\n",
      "Requirement already satisfied: six>=1.5 in /Users/andreamarini/PycharmProjects/time-series-analysis/.venv/lib/python3.12/site-packages (from python-dateutil>=2.8.2->pandas) (1.16.0)\r\n",
      "Note: you may need to restart the kernel to use updated packages.\n",
      "Requirement already satisfied: jupyter in /Users/andreamarini/PycharmProjects/time-series-analysis/.venv/lib/python3.12/site-packages (1.1.1)\r\n",
      "Requirement already satisfied: ipywidgets in /Users/andreamarini/PycharmProjects/time-series-analysis/.venv/lib/python3.12/site-packages (8.1.5)\r\n",
      "Requirement already satisfied: notebook in /Users/andreamarini/PycharmProjects/time-series-analysis/.venv/lib/python3.12/site-packages (from jupyter) (7.2.2)\r\n",
      "Requirement already satisfied: jupyter-console in /Users/andreamarini/PycharmProjects/time-series-analysis/.venv/lib/python3.12/site-packages (from jupyter) (6.6.3)\r\n",
      "Requirement already satisfied: nbconvert in /Users/andreamarini/PycharmProjects/time-series-analysis/.venv/lib/python3.12/site-packages (from jupyter) (7.16.4)\r\n",
      "Requirement already satisfied: ipykernel in /Users/andreamarini/PycharmProjects/time-series-analysis/.venv/lib/python3.12/site-packages (from jupyter) (6.29.5)\r\n",
      "Requirement already satisfied: jupyterlab in /Users/andreamarini/PycharmProjects/time-series-analysis/.venv/lib/python3.12/site-packages (from jupyter) (4.2.5)\r\n",
      "Requirement already satisfied: comm>=0.1.3 in /Users/andreamarini/PycharmProjects/time-series-analysis/.venv/lib/python3.12/site-packages (from ipywidgets) (0.2.2)\r\n",
      "Requirement already satisfied: ipython>=6.1.0 in /Users/andreamarini/PycharmProjects/time-series-analysis/.venv/lib/python3.12/site-packages (from ipywidgets) (8.29.0)\r\n",
      "Requirement already satisfied: traitlets>=4.3.1 in /Users/andreamarini/PycharmProjects/time-series-analysis/.venv/lib/python3.12/site-packages (from ipywidgets) (5.14.3)\r\n",
      "Requirement already satisfied: widgetsnbextension~=4.0.12 in /Users/andreamarini/PycharmProjects/time-series-analysis/.venv/lib/python3.12/site-packages (from ipywidgets) (4.0.13)\r\n",
      "Requirement already satisfied: jupyterlab-widgets~=3.0.12 in /Users/andreamarini/PycharmProjects/time-series-analysis/.venv/lib/python3.12/site-packages (from ipywidgets) (3.0.13)\r\n",
      "Requirement already satisfied: decorator in /Users/andreamarini/PycharmProjects/time-series-analysis/.venv/lib/python3.12/site-packages (from ipython>=6.1.0->ipywidgets) (5.1.1)\r\n",
      "Requirement already satisfied: jedi>=0.16 in /Users/andreamarini/PycharmProjects/time-series-analysis/.venv/lib/python3.12/site-packages (from ipython>=6.1.0->ipywidgets) (0.19.1)\r\n",
      "Requirement already satisfied: matplotlib-inline in /Users/andreamarini/PycharmProjects/time-series-analysis/.venv/lib/python3.12/site-packages (from ipython>=6.1.0->ipywidgets) (0.1.7)\r\n",
      "Requirement already satisfied: prompt-toolkit<3.1.0,>=3.0.41 in /Users/andreamarini/PycharmProjects/time-series-analysis/.venv/lib/python3.12/site-packages (from ipython>=6.1.0->ipywidgets) (3.0.48)\r\n",
      "Requirement already satisfied: pygments>=2.4.0 in /Users/andreamarini/PycharmProjects/time-series-analysis/.venv/lib/python3.12/site-packages (from ipython>=6.1.0->ipywidgets) (2.18.0)\r\n",
      "Requirement already satisfied: stack-data in /Users/andreamarini/PycharmProjects/time-series-analysis/.venv/lib/python3.12/site-packages (from ipython>=6.1.0->ipywidgets) (0.6.3)\r\n",
      "Requirement already satisfied: pexpect>4.3 in /Users/andreamarini/PycharmProjects/time-series-analysis/.venv/lib/python3.12/site-packages (from ipython>=6.1.0->ipywidgets) (4.9.0)\r\n",
      "Requirement already satisfied: appnope in /Users/andreamarini/PycharmProjects/time-series-analysis/.venv/lib/python3.12/site-packages (from ipykernel->jupyter) (0.1.4)\r\n",
      "Requirement already satisfied: debugpy>=1.6.5 in /Users/andreamarini/PycharmProjects/time-series-analysis/.venv/lib/python3.12/site-packages (from ipykernel->jupyter) (1.8.8)\r\n",
      "Requirement already satisfied: jupyter-client>=6.1.12 in /Users/andreamarini/PycharmProjects/time-series-analysis/.venv/lib/python3.12/site-packages (from ipykernel->jupyter) (8.6.3)\r\n",
      "Requirement already satisfied: jupyter-core!=5.0.*,>=4.12 in /Users/andreamarini/PycharmProjects/time-series-analysis/.venv/lib/python3.12/site-packages (from ipykernel->jupyter) (5.7.2)\r\n",
      "Requirement already satisfied: nest-asyncio in /Users/andreamarini/PycharmProjects/time-series-analysis/.venv/lib/python3.12/site-packages (from ipykernel->jupyter) (1.6.0)\r\n",
      "Requirement already satisfied: packaging in /Users/andreamarini/PycharmProjects/time-series-analysis/.venv/lib/python3.12/site-packages (from ipykernel->jupyter) (24.2)\r\n",
      "Requirement already satisfied: psutil in /Users/andreamarini/PycharmProjects/time-series-analysis/.venv/lib/python3.12/site-packages (from ipykernel->jupyter) (6.1.0)\r\n",
      "Requirement already satisfied: pyzmq>=24 in /Users/andreamarini/PycharmProjects/time-series-analysis/.venv/lib/python3.12/site-packages (from ipykernel->jupyter) (26.2.0)\r\n",
      "Requirement already satisfied: tornado>=6.1 in /Users/andreamarini/PycharmProjects/time-series-analysis/.venv/lib/python3.12/site-packages (from ipykernel->jupyter) (6.4.1)\r\n",
      "Requirement already satisfied: async-lru>=1.0.0 in /Users/andreamarini/PycharmProjects/time-series-analysis/.venv/lib/python3.12/site-packages (from jupyterlab->jupyter) (2.0.4)\r\n",
      "Requirement already satisfied: httpx>=0.25.0 in /Users/andreamarini/PycharmProjects/time-series-analysis/.venv/lib/python3.12/site-packages (from jupyterlab->jupyter) (0.27.2)\r\n",
      "Requirement already satisfied: jinja2>=3.0.3 in /Users/andreamarini/PycharmProjects/time-series-analysis/.venv/lib/python3.12/site-packages (from jupyterlab->jupyter) (3.1.4)\r\n",
      "Requirement already satisfied: jupyter-lsp>=2.0.0 in /Users/andreamarini/PycharmProjects/time-series-analysis/.venv/lib/python3.12/site-packages (from jupyterlab->jupyter) (2.2.5)\r\n",
      "Requirement already satisfied: jupyter-server<3,>=2.4.0 in /Users/andreamarini/PycharmProjects/time-series-analysis/.venv/lib/python3.12/site-packages (from jupyterlab->jupyter) (2.14.2)\r\n",
      "Requirement already satisfied: jupyterlab-server<3,>=2.27.1 in /Users/andreamarini/PycharmProjects/time-series-analysis/.venv/lib/python3.12/site-packages (from jupyterlab->jupyter) (2.27.3)\r\n",
      "Requirement already satisfied: notebook-shim>=0.2 in /Users/andreamarini/PycharmProjects/time-series-analysis/.venv/lib/python3.12/site-packages (from jupyterlab->jupyter) (0.2.4)\r\n",
      "Requirement already satisfied: setuptools>=40.1.0 in /Users/andreamarini/PycharmProjects/time-series-analysis/.venv/lib/python3.12/site-packages (from jupyterlab->jupyter) (75.3.0)\r\n",
      "Requirement already satisfied: beautifulsoup4 in /Users/andreamarini/PycharmProjects/time-series-analysis/.venv/lib/python3.12/site-packages (from nbconvert->jupyter) (4.12.3)\r\n",
      "Requirement already satisfied: bleach!=5.0.0 in /Users/andreamarini/PycharmProjects/time-series-analysis/.venv/lib/python3.12/site-packages (from nbconvert->jupyter) (6.2.0)\r\n",
      "Requirement already satisfied: defusedxml in /Users/andreamarini/PycharmProjects/time-series-analysis/.venv/lib/python3.12/site-packages (from nbconvert->jupyter) (0.7.1)\r\n",
      "Requirement already satisfied: jupyterlab-pygments in /Users/andreamarini/PycharmProjects/time-series-analysis/.venv/lib/python3.12/site-packages (from nbconvert->jupyter) (0.3.0)\r\n",
      "Requirement already satisfied: markupsafe>=2.0 in /Users/andreamarini/PycharmProjects/time-series-analysis/.venv/lib/python3.12/site-packages (from nbconvert->jupyter) (3.0.2)\r\n",
      "Requirement already satisfied: mistune<4,>=2.0.3 in /Users/andreamarini/PycharmProjects/time-series-analysis/.venv/lib/python3.12/site-packages (from nbconvert->jupyter) (3.0.2)\r\n",
      "Requirement already satisfied: nbclient>=0.5.0 in /Users/andreamarini/PycharmProjects/time-series-analysis/.venv/lib/python3.12/site-packages (from nbconvert->jupyter) (0.10.0)\r\n",
      "Requirement already satisfied: nbformat>=5.7 in /Users/andreamarini/PycharmProjects/time-series-analysis/.venv/lib/python3.12/site-packages (from nbconvert->jupyter) (5.10.4)\r\n",
      "Requirement already satisfied: pandocfilters>=1.4.1 in /Users/andreamarini/PycharmProjects/time-series-analysis/.venv/lib/python3.12/site-packages (from nbconvert->jupyter) (1.5.1)\r\n",
      "Requirement already satisfied: tinycss2 in /Users/andreamarini/PycharmProjects/time-series-analysis/.venv/lib/python3.12/site-packages (from nbconvert->jupyter) (1.4.0)\r\n",
      "Requirement already satisfied: webencodings in /Users/andreamarini/PycharmProjects/time-series-analysis/.venv/lib/python3.12/site-packages (from bleach!=5.0.0->nbconvert->jupyter) (0.5.1)\r\n",
      "Requirement already satisfied: anyio in /Users/andreamarini/PycharmProjects/time-series-analysis/.venv/lib/python3.12/site-packages (from httpx>=0.25.0->jupyterlab->jupyter) (4.6.2.post1)\r\n",
      "Requirement already satisfied: certifi in /Users/andreamarini/PycharmProjects/time-series-analysis/.venv/lib/python3.12/site-packages (from httpx>=0.25.0->jupyterlab->jupyter) (2024.8.30)\r\n",
      "Requirement already satisfied: httpcore==1.* in /Users/andreamarini/PycharmProjects/time-series-analysis/.venv/lib/python3.12/site-packages (from httpx>=0.25.0->jupyterlab->jupyter) (1.0.6)\r\n",
      "Requirement already satisfied: idna in /Users/andreamarini/PycharmProjects/time-series-analysis/.venv/lib/python3.12/site-packages (from httpx>=0.25.0->jupyterlab->jupyter) (3.10)\r\n",
      "Requirement already satisfied: sniffio in /Users/andreamarini/PycharmProjects/time-series-analysis/.venv/lib/python3.12/site-packages (from httpx>=0.25.0->jupyterlab->jupyter) (1.3.1)\r\n",
      "Requirement already satisfied: h11<0.15,>=0.13 in /Users/andreamarini/PycharmProjects/time-series-analysis/.venv/lib/python3.12/site-packages (from httpcore==1.*->httpx>=0.25.0->jupyterlab->jupyter) (0.14.0)\r\n",
      "Requirement already satisfied: parso<0.9.0,>=0.8.3 in /Users/andreamarini/PycharmProjects/time-series-analysis/.venv/lib/python3.12/site-packages (from jedi>=0.16->ipython>=6.1.0->ipywidgets) (0.8.4)\r\n",
      "Requirement already satisfied: python-dateutil>=2.8.2 in /Users/andreamarini/PycharmProjects/time-series-analysis/.venv/lib/python3.12/site-packages (from jupyter-client>=6.1.12->ipykernel->jupyter) (2.9.0.post0)\r\n",
      "Requirement already satisfied: platformdirs>=2.5 in /Users/andreamarini/PycharmProjects/time-series-analysis/.venv/lib/python3.12/site-packages (from jupyter-core!=5.0.*,>=4.12->ipykernel->jupyter) (4.3.6)\r\n",
      "Requirement already satisfied: argon2-cffi>=21.1 in /Users/andreamarini/PycharmProjects/time-series-analysis/.venv/lib/python3.12/site-packages (from jupyter-server<3,>=2.4.0->jupyterlab->jupyter) (23.1.0)\r\n",
      "Requirement already satisfied: jupyter-events>=0.9.0 in /Users/andreamarini/PycharmProjects/time-series-analysis/.venv/lib/python3.12/site-packages (from jupyter-server<3,>=2.4.0->jupyterlab->jupyter) (0.10.0)\r\n",
      "Requirement already satisfied: jupyter-server-terminals>=0.4.4 in /Users/andreamarini/PycharmProjects/time-series-analysis/.venv/lib/python3.12/site-packages (from jupyter-server<3,>=2.4.0->jupyterlab->jupyter) (0.5.3)\r\n",
      "Requirement already satisfied: overrides>=5.0 in /Users/andreamarini/PycharmProjects/time-series-analysis/.venv/lib/python3.12/site-packages (from jupyter-server<3,>=2.4.0->jupyterlab->jupyter) (7.7.0)\r\n",
      "Requirement already satisfied: prometheus-client>=0.9 in /Users/andreamarini/PycharmProjects/time-series-analysis/.venv/lib/python3.12/site-packages (from jupyter-server<3,>=2.4.0->jupyterlab->jupyter) (0.21.0)\r\n",
      "Requirement already satisfied: send2trash>=1.8.2 in /Users/andreamarini/PycharmProjects/time-series-analysis/.venv/lib/python3.12/site-packages (from jupyter-server<3,>=2.4.0->jupyterlab->jupyter) (1.8.3)\r\n",
      "Requirement already satisfied: terminado>=0.8.3 in /Users/andreamarini/PycharmProjects/time-series-analysis/.venv/lib/python3.12/site-packages (from jupyter-server<3,>=2.4.0->jupyterlab->jupyter) (0.18.1)\r\n",
      "Requirement already satisfied: websocket-client>=1.7 in /Users/andreamarini/PycharmProjects/time-series-analysis/.venv/lib/python3.12/site-packages (from jupyter-server<3,>=2.4.0->jupyterlab->jupyter) (1.8.0)\r\n",
      "Requirement already satisfied: babel>=2.10 in /Users/andreamarini/PycharmProjects/time-series-analysis/.venv/lib/python3.12/site-packages (from jupyterlab-server<3,>=2.27.1->jupyterlab->jupyter) (2.16.0)\r\n",
      "Requirement already satisfied: json5>=0.9.0 in /Users/andreamarini/PycharmProjects/time-series-analysis/.venv/lib/python3.12/site-packages (from jupyterlab-server<3,>=2.27.1->jupyterlab->jupyter) (0.9.25)\r\n",
      "Requirement already satisfied: jsonschema>=4.18.0 in /Users/andreamarini/PycharmProjects/time-series-analysis/.venv/lib/python3.12/site-packages (from jupyterlab-server<3,>=2.27.1->jupyterlab->jupyter) (4.23.0)\r\n",
      "Requirement already satisfied: requests>=2.31 in /Users/andreamarini/PycharmProjects/time-series-analysis/.venv/lib/python3.12/site-packages (from jupyterlab-server<3,>=2.27.1->jupyterlab->jupyter) (2.32.3)\r\n",
      "Requirement already satisfied: fastjsonschema>=2.15 in /Users/andreamarini/PycharmProjects/time-series-analysis/.venv/lib/python3.12/site-packages (from nbformat>=5.7->nbconvert->jupyter) (2.20.0)\r\n",
      "Requirement already satisfied: ptyprocess>=0.5 in /Users/andreamarini/PycharmProjects/time-series-analysis/.venv/lib/python3.12/site-packages (from pexpect>4.3->ipython>=6.1.0->ipywidgets) (0.7.0)\r\n",
      "Requirement already satisfied: wcwidth in /Users/andreamarini/PycharmProjects/time-series-analysis/.venv/lib/python3.12/site-packages (from prompt-toolkit<3.1.0,>=3.0.41->ipython>=6.1.0->ipywidgets) (0.2.13)\r\n",
      "Requirement already satisfied: soupsieve>1.2 in /Users/andreamarini/PycharmProjects/time-series-analysis/.venv/lib/python3.12/site-packages (from beautifulsoup4->nbconvert->jupyter) (2.6)\r\n",
      "Requirement already satisfied: executing>=1.2.0 in /Users/andreamarini/PycharmProjects/time-series-analysis/.venv/lib/python3.12/site-packages (from stack-data->ipython>=6.1.0->ipywidgets) (2.1.0)\r\n",
      "Requirement already satisfied: asttokens>=2.1.0 in /Users/andreamarini/PycharmProjects/time-series-analysis/.venv/lib/python3.12/site-packages (from stack-data->ipython>=6.1.0->ipywidgets) (2.4.1)\r\n",
      "Requirement already satisfied: pure-eval in /Users/andreamarini/PycharmProjects/time-series-analysis/.venv/lib/python3.12/site-packages (from stack-data->ipython>=6.1.0->ipywidgets) (0.2.3)\r\n",
      "Requirement already satisfied: argon2-cffi-bindings in /Users/andreamarini/PycharmProjects/time-series-analysis/.venv/lib/python3.12/site-packages (from argon2-cffi>=21.1->jupyter-server<3,>=2.4.0->jupyterlab->jupyter) (21.2.0)\r\n",
      "Requirement already satisfied: six>=1.12.0 in /Users/andreamarini/PycharmProjects/time-series-analysis/.venv/lib/python3.12/site-packages (from asttokens>=2.1.0->stack-data->ipython>=6.1.0->ipywidgets) (1.16.0)\r\n",
      "Requirement already satisfied: attrs>=22.2.0 in /Users/andreamarini/PycharmProjects/time-series-analysis/.venv/lib/python3.12/site-packages (from jsonschema>=4.18.0->jupyterlab-server<3,>=2.27.1->jupyterlab->jupyter) (24.2.0)\r\n",
      "Requirement already satisfied: jsonschema-specifications>=2023.03.6 in /Users/andreamarini/PycharmProjects/time-series-analysis/.venv/lib/python3.12/site-packages (from jsonschema>=4.18.0->jupyterlab-server<3,>=2.27.1->jupyterlab->jupyter) (2024.10.1)\r\n",
      "Requirement already satisfied: referencing>=0.28.4 in /Users/andreamarini/PycharmProjects/time-series-analysis/.venv/lib/python3.12/site-packages (from jsonschema>=4.18.0->jupyterlab-server<3,>=2.27.1->jupyterlab->jupyter) (0.35.1)\r\n",
      "Requirement already satisfied: rpds-py>=0.7.1 in /Users/andreamarini/PycharmProjects/time-series-analysis/.venv/lib/python3.12/site-packages (from jsonschema>=4.18.0->jupyterlab-server<3,>=2.27.1->jupyterlab->jupyter) (0.21.0)\r\n",
      "Requirement already satisfied: python-json-logger>=2.0.4 in /Users/andreamarini/PycharmProjects/time-series-analysis/.venv/lib/python3.12/site-packages (from jupyter-events>=0.9.0->jupyter-server<3,>=2.4.0->jupyterlab->jupyter) (2.0.7)\r\n",
      "Requirement already satisfied: pyyaml>=5.3 in /Users/andreamarini/PycharmProjects/time-series-analysis/.venv/lib/python3.12/site-packages (from jupyter-events>=0.9.0->jupyter-server<3,>=2.4.0->jupyterlab->jupyter) (6.0.2)\r\n",
      "Requirement already satisfied: rfc3339-validator in /Users/andreamarini/PycharmProjects/time-series-analysis/.venv/lib/python3.12/site-packages (from jupyter-events>=0.9.0->jupyter-server<3,>=2.4.0->jupyterlab->jupyter) (0.1.4)\r\n",
      "Requirement already satisfied: rfc3986-validator>=0.1.1 in /Users/andreamarini/PycharmProjects/time-series-analysis/.venv/lib/python3.12/site-packages (from jupyter-events>=0.9.0->jupyter-server<3,>=2.4.0->jupyterlab->jupyter) (0.1.1)\r\n",
      "Requirement already satisfied: charset-normalizer<4,>=2 in /Users/andreamarini/PycharmProjects/time-series-analysis/.venv/lib/python3.12/site-packages (from requests>=2.31->jupyterlab-server<3,>=2.27.1->jupyterlab->jupyter) (3.4.0)\r\n",
      "Requirement already satisfied: urllib3<3,>=1.21.1 in /Users/andreamarini/PycharmProjects/time-series-analysis/.venv/lib/python3.12/site-packages (from requests>=2.31->jupyterlab-server<3,>=2.27.1->jupyterlab->jupyter) (2.2.3)\r\n",
      "Requirement already satisfied: fqdn in /Users/andreamarini/PycharmProjects/time-series-analysis/.venv/lib/python3.12/site-packages (from jsonschema[format-nongpl]>=4.18.0->jupyter-events>=0.9.0->jupyter-server<3,>=2.4.0->jupyterlab->jupyter) (1.5.1)\r\n",
      "Requirement already satisfied: isoduration in /Users/andreamarini/PycharmProjects/time-series-analysis/.venv/lib/python3.12/site-packages (from jsonschema[format-nongpl]>=4.18.0->jupyter-events>=0.9.0->jupyter-server<3,>=2.4.0->jupyterlab->jupyter) (20.11.0)\r\n",
      "Requirement already satisfied: jsonpointer>1.13 in /Users/andreamarini/PycharmProjects/time-series-analysis/.venv/lib/python3.12/site-packages (from jsonschema[format-nongpl]>=4.18.0->jupyter-events>=0.9.0->jupyter-server<3,>=2.4.0->jupyterlab->jupyter) (3.0.0)\r\n",
      "Requirement already satisfied: uri-template in /Users/andreamarini/PycharmProjects/time-series-analysis/.venv/lib/python3.12/site-packages (from jsonschema[format-nongpl]>=4.18.0->jupyter-events>=0.9.0->jupyter-server<3,>=2.4.0->jupyterlab->jupyter) (1.3.0)\r\n",
      "Requirement already satisfied: webcolors>=24.6.0 in /Users/andreamarini/PycharmProjects/time-series-analysis/.venv/lib/python3.12/site-packages (from jsonschema[format-nongpl]>=4.18.0->jupyter-events>=0.9.0->jupyter-server<3,>=2.4.0->jupyterlab->jupyter) (24.8.0)\r\n",
      "Requirement already satisfied: cffi>=1.0.1 in /Users/andreamarini/PycharmProjects/time-series-analysis/.venv/lib/python3.12/site-packages (from argon2-cffi-bindings->argon2-cffi>=21.1->jupyter-server<3,>=2.4.0->jupyterlab->jupyter) (1.17.1)\r\n",
      "Requirement already satisfied: pycparser in /Users/andreamarini/PycharmProjects/time-series-analysis/.venv/lib/python3.12/site-packages (from cffi>=1.0.1->argon2-cffi-bindings->argon2-cffi>=21.1->jupyter-server<3,>=2.4.0->jupyterlab->jupyter) (2.22)\r\n",
      "Requirement already satisfied: arrow>=0.15.0 in /Users/andreamarini/PycharmProjects/time-series-analysis/.venv/lib/python3.12/site-packages (from isoduration->jsonschema[format-nongpl]>=4.18.0->jupyter-events>=0.9.0->jupyter-server<3,>=2.4.0->jupyterlab->jupyter) (1.3.0)\r\n",
      "Requirement already satisfied: types-python-dateutil>=2.8.10 in /Users/andreamarini/PycharmProjects/time-series-analysis/.venv/lib/python3.12/site-packages (from arrow>=0.15.0->isoduration->jsonschema[format-nongpl]>=4.18.0->jupyter-events>=0.9.0->jupyter-server<3,>=2.4.0->jupyterlab->jupyter) (2.9.0.20241003)\r\n",
      "Note: you may need to restart the kernel to use updated packages.\n",
      "Requirement already satisfied: jupyterlab-widgets in /Users/andreamarini/PycharmProjects/time-series-analysis/.venv/lib/python3.12/site-packages (3.0.13)\r\n",
      "Note: you may need to restart the kernel to use updated packages.\n"
     ]
    }
   ],
   "execution_count": 1
  },
  {
   "metadata": {},
   "cell_type": "markdown",
   "source": "# Download the dataset and load datas",
   "id": "455db3e27e907d5"
  },
  {
   "metadata": {
    "ExecuteTime": {
     "end_time": "2024-11-09T10:37:20.014008Z",
     "start_time": "2024-11-09T10:37:19.657856Z"
    }
   },
   "cell_type": "code",
   "source": [
    "import os\n",
    "import kagglehub\n",
    "\n",
    "path = kagglehub.dataset_download(\"elemento/nyc-yellow-taxi-trip-data\")\n",
    "file_path1 = os.path.join(path, \"yellow_tripdata_2015-01.csv\")  # Path to the dataset file\n",
    "file_path2 = os.path.join(path, \"yellow_tripdata_2016-01.csv\")  # Path to the dataset file\n",
    "file_path3 = os.path.join(path, \"yellow_tripdata_2016-02.csv\")  # Path to the dataset file\n",
    "file_path4 = os.path.join(path, \"yellow_tripdata_2016-03.csv\")  # Path to the dataset file"
   ],
   "id": "1dcc7ed3e7350fcf",
   "outputs": [],
   "execution_count": 5
  },
  {
   "metadata": {
    "ExecuteTime": {
     "end_time": "2024-11-09T10:43:11.146162Z",
     "start_time": "2024-11-09T10:43:11.138760Z"
    }
   },
   "cell_type": "code",
   "source": [
    "# Verifica degli attributi presenti\n",
    "import pandas as pd\n",
    "df_sample = pd.read_csv(file_path1, nrows=5)\n",
    "print(df_sample.columns)"
   ],
   "id": "e547bc787f79212b",
   "outputs": [
    {
     "name": "stdout",
     "output_type": "stream",
     "text": [
      "Index(['VendorID', 'tpep_pickup_datetime', 'tpep_dropoff_datetime',\n",
      "       'passenger_count', 'trip_distance', 'pickup_longitude',\n",
      "       'pickup_latitude', 'RateCodeID', 'store_and_fwd_flag',\n",
      "       'dropoff_longitude', 'dropoff_latitude', 'payment_type', 'fare_amount',\n",
      "       'extra', 'mta_tax', 'tip_amount', 'tolls_amount',\n",
      "       'improvement_surcharge', 'total_amount'],\n",
      "      dtype='object')\n"
     ]
    }
   ],
   "execution_count": 9
  },
  {
   "metadata": {},
   "cell_type": "markdown",
   "source": "# Load only the columns needed",
   "id": "56aef4dfd24822ae"
  },
  {
   "metadata": {
    "ExecuteTime": {
     "end_time": "2024-11-09T10:49:20.246133Z",
     "start_time": "2024-11-09T10:48:25.643316Z"
    }
   },
   "cell_type": "code",
   "source": [
    "import pandas as pd\n",
    "\n",
    "needed_columns = [\n",
    "    \"trip_distance\",         # Distanza del viaggio\n",
    "    \"fare_amount\",           # Importo della tariffa\n",
    "    \"extra\",                 # Extra e sovrapprezzi\n",
    "    \"mta_tax\",               # Tassa MTA\n",
    "    \"improvement_surcharge\", # Sovrapprezzo di miglioramento\n",
    "    \"tip_amount\",            # Importo della mancia\n",
    "    \"tolls_amount\",          # Importo totale dei pedaggi\n",
    "    \"total_amount\",          # Importo totale addebitato\n",
    "    \"passenger_count\",       # Numero di passeggeri\n",
    "    \"tpep_pickup_datetime\",  # Data e ora di inizio del viaggio\n",
    "    \"tpep_dropoff_datetime\", # Data e ora di fine del viaggio\n",
    "    \"pickup_longitude\",      # Longitudine del punto di partenza\n",
    "    \"pickup_latitude\",       # Latitudine del punto di partenza\n",
    "    \"dropoff_longitude\",     # Longitudine del punto di arrivo\n",
    "    \"dropoff_latitude\",      # Latitudine del punto di arrivo\n",
    "    \"payment_type\"           # Tipo di pagamento (target)\n",
    "]\n",
    "\n",
    "df_2015_01 = pd.read_csv(file_path1, usecols=needed_columns)    # Load the dataset  in a DataFrame\n",
    "df_2016_01 = pd.read_csv(file_path2, usecols=needed_columns)    # Load the dataset  in a DataFrame\n",
    "df_2016_02 = pd.read_csv(file_path3, usecols=needed_columns)    # Load the dataset  in a DataFrame\n",
    "df_2016_03 = pd.read_csv(file_path4, usecols=needed_columns)    # Load the dataset  in a DataFrame"
   ],
   "id": "23a6705e04a1e268",
   "outputs": [],
   "execution_count": 12
  },
  {
   "metadata": {},
   "cell_type": "markdown",
   "source": "# Join the different dataframes",
   "id": "d98b7853ea62c794"
  },
  {
   "metadata": {
    "ExecuteTime": {
     "end_time": "2024-11-09T10:54:28.286271Z",
     "start_time": "2024-11-09T10:54:22.307285Z"
    }
   },
   "cell_type": "code",
   "source": [
    "df = pd.concat([df_2015_01, df_2016_01, df_2016_02, df_2016_03], ignore_index=True)\n",
    "print (df.columns)"
   ],
   "id": "43bf4ecdc9f05af9",
   "outputs": [
    {
     "name": "stdout",
     "output_type": "stream",
     "text": [
      "Index(['tpep_pickup_datetime', 'tpep_dropoff_datetime', 'passenger_count',\n",
      "       'trip_distance', 'pickup_longitude', 'pickup_latitude',\n",
      "       'dropoff_longitude', 'dropoff_latitude', 'payment_type', 'fare_amount',\n",
      "       'extra', 'mta_tax', 'tip_amount', 'tolls_amount',\n",
      "       'improvement_surcharge', 'total_amount'],\n",
      "      dtype='object')\n"
     ]
    }
   ],
   "execution_count": 17
  }
 ],
 "metadata": {
  "kernelspec": {
   "display_name": "Python 3",
   "language": "python",
   "name": "python3"
  },
  "language_info": {
   "codemirror_mode": {
    "name": "ipython",
    "version": 2
   },
   "file_extension": ".py",
   "mimetype": "text/x-python",
   "name": "python",
   "nbconvert_exporter": "python",
   "pygments_lexer": "ipython2",
   "version": "2.7.6"
  }
 },
 "nbformat": 4,
 "nbformat_minor": 5
}
