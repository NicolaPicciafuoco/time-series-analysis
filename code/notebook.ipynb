{
 "cells": [
  {
   "cell_type": "code",
   "metadata": {
    "ExecuteTime": {
     "end_time": "2024-10-21T12:42:28.902600Z",
     "start_time": "2024-10-21T12:42:28.493093Z"
    }
   },
   "source": [
    "import kagglehub\n",
    "import pandas as pd\n",
    "import os\n",
    "# Download latest version\n",
    "path = kagglehub.dataset_download(\"elemento/nyc-yellow-taxi-trip-data\")\n",
    "print(\"Path to dataset files:\", path)\n",
    "file_path = os.path.join(path, \"yellow_tripdata_2015-01.csv\")  # Path to the dataset file\n"
   ],
   "outputs": [
    {
     "name": "stdout",
     "output_type": "stream",
     "text": [
      "Path to dataset files: /home/nicola/.cache/kagglehub/datasets/elemento/nyc-yellow-taxi-trip-data/versions/2\n"
     ]
    }
   ],
   "execution_count": 6
  },
  {
   "metadata": {
    "ExecuteTime": {
     "end_time": "2024-10-21T12:42:50.216727Z",
     "start_time": "2024-10-21T12:42:31.278024Z"
    }
   },
   "cell_type": "code",
   "source": [
    "# Check if the file exists\n",
    "if os.path.exists(file_path):\n",
    "    # upload the file to the notebook\n",
    "    df = pd.read_csv(file_path)\n",
    "\n",
    "    # Print the colum names\n",
    "    print(\"Nomi delle colonne nel dataset:\", df.columns.tolist())\n",
    "else:\n",
    "    print(\"Il file non esiste. Controlla il percorso:\", file_path)\n"
   ],
   "outputs": [
    {
     "name": "stdout",
     "output_type": "stream",
     "text": [
      "Nomi delle colonne nel dataset: ['VendorID', 'tpep_pickup_datetime', 'tpep_dropoff_datetime', 'passenger_count', 'trip_distance', 'pickup_longitude', 'pickup_latitude', 'RateCodeID', 'store_and_fwd_flag', 'dropoff_longitude', 'dropoff_latitude', 'payment_type', 'fare_amount', 'extra', 'mta_tax', 'tip_amount', 'tolls_amount', 'improvement_surcharge', 'total_amount']\n"
     ]
    }
   ],
   "execution_count": 7
  }
 ],
 "metadata": {
  "language_info": {
   "name": "python"
  },
  "kernelspec": {
   "name": "python3",
   "language": "python",
   "display_name": "Python 3 (ipykernel)"
  }
 },
 "nbformat": 4,
 "nbformat_minor": 2
}
