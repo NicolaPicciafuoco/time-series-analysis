{
 "cells": [
  {
   "metadata": {},
   "cell_type": "markdown",
   "source": "# Notebook for statistical  and time series analysis of the dataset \"NYC Yellow Taxi Trip Data\" "
  },
  {
   "metadata": {},
   "cell_type": "markdown",
   "source": "### Install the required packages, lunch this cell only once (code 1)\n"
  },
  {
   "metadata": {},
   "cell_type": "code",
   "source": [
    "%pip install kagglehub\n",
    "%pip install pandas\n",
    "%pip install matplotlib\n",
    "%pip install numpy\n",
    "%pip install seaborn\n",
    "%pip install folium\n",
    "import seaborn as sns\n",
    "from scipy.stats import norm, alpha\n",
    "import numpy as np\n",
    "import kagglehub\n",
    "import pandas as pd\n",
    "import os\n",
    "import matplotlib.pyplot as plt\n",
    "import folium\n",
    "from folium.plugins import HeatMap, MarkerCluster\n",
    "from datetime import datetime"
   ],
   "outputs": [],
   "execution_count": null
  },
  {
   "metadata": {},
   "cell_type": "markdown",
   "source": [
    "## Download the dataset and load the data\n",
    "##### lunch this cell only once (code 2)"
   ]
  },
  {
   "cell_type": "code",
   "metadata": {},
   "source": [
    "# Download latest version\n",
    "path = kagglehub.dataset_download(\"elemento/nyc-yellow-taxi-trip-data\")\n",
    "# print(\"Path to dataset files:\", path) use only for debug\n",
    "file_path1 = os.path.join(path, \"yellow_tripdata_2015-01.csv\")  # Path to the dataset file\n",
    "file_path2 = os.path.join(path, \"yellow_tripdata_2016-01.csv\")  # Path to the dataset file\n",
    "file_path3 = os.path.join(path, \"yellow_tripdata_2016-02.csv\")  # Path to the dataset file\n",
    "file_path4 = os.path.join(path, \"yellow_tripdata_2016-03.csv\")  # Path to the dataset file"
   ],
   "outputs": [],
   "execution_count": null
  },
  {
   "metadata": {},
   "cell_type": "markdown",
   "source": "#### there is un error in un colum, so you must run this script for  update and change the column name in first dataset (if you need this column)  (code 3)"
  },
  {
   "metadata": {},
   "cell_type": "code",
   "source": [
    "def update_and_change(file_path):\n",
    "    df = pd.read_csv(file_path)\n",
    "    # Update the column name\n",
    "    if 'RateCodeID' in df.columns:\n",
    "        df.rename(columns={'RateCodeID': 'RatecodeID'}, inplace=True)\n",
    "    return df\n",
    "\n",
    "df_2015_01 = update_and_change(file_path1)"
   ],
   "outputs": [],
   "execution_count": null
  },
  {
   "metadata": {},
   "cell_type": "markdown",
   "source": "#####  Check if database was imported correctly, this script is optional will be used only for debug (code 4)"
  },
  {
   "metadata": {},
   "cell_type": "code",
   "source": [
    "# Check if the file exists\n",
    "if os.path.exists(file_path1):\n",
    "    # upload the file to the notebook\n",
    "    df = pd.read_csv(file_path1)\n",
    "\n",
    "    # Print the colum names\n",
    "    print(\"Nomi delle colonne nel dataset:\", df.columns.tolist())\n",
    "else:\n",
    "    print(f\"Il file non esiste. Controlla il percorso: {file_path1}\")\n"
   ],
   "outputs": [],
   "execution_count": null
  },
  {
   "metadata": {},
   "cell_type": "markdown",
   "source": "### Statistical analysis in colum VendorID for the dataset"
  },
  {
   "metadata": {},
   "cell_type": "markdown",
   "source": "##### Union of the dataset and creation of the bar plot for the frequency of the VendorID (code 5)"
  },
  {
   "metadata": {},
   "cell_type": "code",
   "source": [
    "#! before run this you must run the code 1 and 2\n",
    "vendor_colum = ['VendorID']\n",
    "df_2015_01 = pd.read_csv(file_path1, usecols=vendor_colum)    # Load the dataset  in a DataFrame\n",
    "df_2016_01 = pd.read_csv(file_path2, usecols=vendor_colum)    # Load the dataset  in a DataFrame\n",
    "df_2016_02 = pd.read_csv(file_path3, usecols=vendor_colum)    # Load the dataset  in a DataFrame\n",
    "df_2016_03 = pd.read_csv(file_path4, usecols=vendor_colum)    # Load the dataset  in a DataFrame\n",
    "\n",
    "# Concatenate the dataframes\n",
    "df = pd.concat([df_2015_01, df_2016_01, df_2016_02, df_2016_03], ignore_index=True)"
   ],
   "outputs": [],
   "execution_count": null
  },
  {
   "metadata": {},
   "cell_type": "markdown",
   "source": "#### Creation of the bar plot for the frequency of the VendorID (code 6)"
  },
  {
   "metadata": {
    "ExecuteTime": {
     "end_time": "2024-10-24T19:42:29.579706Z",
     "start_time": "2024-10-24T19:42:29.299956Z"
    }
   },
   "cell_type": "code",
   "source": [
    "#! before run this you must run the code 1 and 2 and 5\n",
    "fr_vendor = df['VendorID'].value_counts()\n",
    "\n",
    "# creation of the bar plot\n",
    "fr_vendor.plot(kind='bar', color=['blue', 'green'])\n",
    "\n",
    "# add title and labels\n",
    "plt.title(\"frequency of VendorID\")\n",
    "plt.xlabel(\"VendorID\")\n",
    "plt.ylabel(\"Number of trips\")\n",
    "plt.xticks(rotation=0)\n",
    "\n",
    "# show the plot\n",
    "plt.show()"
   ],
   "outputs": [
    {
     "data": {
      "text/plain": [
       "<Figure size 640x480 with 1 Axes>"
      ],
      "image/png": "[encoded data removed]"
     },
     "metadata": {},
     "output_type": "display_data"
    }
   ],
   "execution_count": 5
  },
  {
   "metadata": {},
   "cell_type": "markdown",
   "source": "### Analysis of the distribution of the trips by hour (code 7)"
  },
  {
   "metadata": {
    "ExecuteTime": {
     "end_time": "2024-10-24T19:44:01.427600Z",
     "start_time": "2024-10-24T19:43:41.898905Z"
    }
   },
   "cell_type": "code",
   "source": [
    "#! before run this you must run the code 1 and 2\n",
    "# union in a single csv only with the column RateCodeID\n",
    "colum_rate = ['RatecodeID'] \n",
    "df_2015_01_filtered = df_2015_01[['RatecodeID']]    # Load the dataset  in a DataFrame\n",
    "df_2016_01 = pd.read_csv(file_path2, usecols=colum_rate)    # Load the dataset  in a DataFrame\n",
    "df_2016_02 = pd.read_csv(file_path3, usecols=colum_rate)    # Load the dataset  in a DataFrame\n",
    "df_2016_03 = pd.read_csv(file_path4, usecols=colum_rate)    # Load the dataset  in a DataFrame\n",
    "df=pd.concat([df_2015_01_filtered, df_2016_01, df_2016_02, df_2016_03], ignore_index=True)\n",
    "\n"
   ],
   "outputs": [],
   "execution_count": 10
  },
  {
   "metadata": {},
   "cell_type": "markdown",
   "source": "Creation of the bar plot for the frequency of the RateCodeID (code 8)"
  },
  {
   "metadata": {
    "ExecuteTime": {
     "end_time": "2024-10-24T20:24:18.404913Z",
     "start_time": "2024-10-24T20:24:18.391664Z"
    }
   },
   "cell_type": "code",
   "source": [
    "#! before run this you must run the code 1 and 2 and 7\n",
    "# Count the frequency of each RateCodeID\n",
    "frequent_rate_id = df['RatecodeID'].value_counts()\n",
    "\n",
    "# create the bar plot\n",
    "plt.figure(figsize=(10, 6))\n",
    "frequent_rate_id.plot(kind='bar', color='skyblue')\n",
    "\n",
    "# add title and labels\n",
    "plt.title(\"Frequenza dei Codici Tariffari (RateCodeID)\")\n",
    "plt.xlabel(\"RatecodeID\")\n",
    "plt.ylabel(\"Numero di corse\")\n",
    "plt.xticks(rotation=0)\n",
    "#show the plot\n",
    "plt.show()\n",
    "print(frequent_rate_id)"
   ],
   "outputs": [
    {
     "ename": "NameError",
     "evalue": "name 'df' is not defined",
     "output_type": "error",
     "traceback": [
      "\u001B[0;31m---------------------------------------------------------------------------\u001B[0m",
      "\u001B[0;31mNameError\u001B[0m                                 Traceback (most recent call last)",
      "Cell \u001B[0;32mIn[4], line 2\u001B[0m\n\u001B[1;32m      1\u001B[0m \u001B[38;5;66;03m# Count the frequency of each RateCodeID\u001B[39;00m\n\u001B[0;32m----> 2\u001B[0m frequent_rate_id \u001B[38;5;241m=\u001B[39m \u001B[43mdf\u001B[49m[\u001B[38;5;124m'\u001B[39m\u001B[38;5;124mRatecodeID\u001B[39m\u001B[38;5;124m'\u001B[39m]\u001B[38;5;241m.\u001B[39mvalue_counts()\n\u001B[1;32m      4\u001B[0m \u001B[38;5;66;03m# create the bar plot\u001B[39;00m\n\u001B[1;32m      5\u001B[0m plt\u001B[38;5;241m.\u001B[39mfigure(figsize\u001B[38;5;241m=\u001B[39m(\u001B[38;5;241m10\u001B[39m, \u001B[38;5;241m6\u001B[39m))\n",
      "\u001B[0;31mNameError\u001B[0m: name 'df' is not defined"
     ]
    }
   ],
   "execution_count": 4
  },
  {
   "metadata": {},
   "cell_type": "code",
   "source": [
    "import seaborn as sns\n",
    "from scipy.stats import norm, alpha\n",
    "import matplotlib.pyplot as plt\n",
    "import numpy as np\n",
    "colum = ['tpep_pickup_datetime'] # scelgo la colonna tpep_pickup_datetime\n",
    "df_2015_01_filtered = pd.read_csv(file_path1, usecols=colum)    # Load the dataset  in a DataFrame\n",
    "df_2016_01 = pd.read_csv(file_path2, usecols=colum)     \n",
    "df_2016_02 = pd.read_csv(file_path3, usecols=colum)\n",
    "df_2016_03 = pd.read_csv(file_path4, usecols=colum)\n",
    "\n",
    "df_total = pd.concat([df_2015_01_filtered, df_2016_01, df_2016_02, df_2016_03], ignore_index=True)\n",
    "\n",
    "# convert the column to datetime\n",
    "df_total['tpep_pickup_datetime'] = pd.to_datetime(df_total['tpep_pickup_datetime'])\n",
    "\n",
    "# extract the hour from the datetime\n",
    "df_total['hour'] = df_total['tpep_pickup_datetime'].dt.hour\n",
    "\n",
    "# create the gaussian distribution\n",
    "# plt.figure(figsize=(10, 6))\n",
    "# df_total['hour'].hist(bins=24, color='skyblue', edgecolor='black')\n",
    "\n",
    "#couht the frequency of each hour\n",
    "hour_freq = df_total['hour'].value_counts().sort_index()\n",
    "\n",
    "# create array with the hours\n",
    "hours=hour_freq.index\n",
    "counts=hour_freq.values\n",
    "\n",
    "#plot for hour distribution of trips\n",
    "plt.figure(figsize=(10, 6))\n",
    "sns.barplot(x=hours, y=counts, color='skyblue')\n",
    "plt.title(\"Distriubution of trips by hour\")\n",
    "plt.xlabel(\"hour\")\n",
    "plt.ylabel(\"Number of trips\")\n",
    "plt.xticks(np.arange(0, 24, 1))\n",
    "plt.show()"
   ],
   "outputs": [],
   "execution_count": null
  },
  {
   "metadata": {},
   "cell_type": "markdown",
   "source": "#### Calculate the mean and the standard deviation of the distribution of the trips by hour (code 9)"
  },
  {
   "metadata": {},
   "cell_type": "code",
   "source": [
    "mu, std = norm.fit(df_total['hour'])\n",
    "\n",
    "# create the gaussian distribution\n",
    "xmin,xmax=0,23\n",
    "x = np.linspace(xmin, xmax, 100)\n",
    "p = norm.pdf(x, mu, std)\n",
    "\n",
    "# plot the histogram \n",
    "# plt.figure(figsize=(10, 6))\n",
    "# plt.plot(x,p,'r-', lw=2 ,label='Gaussian fit' ) # Gaussian fit\n",
    "# sns.histplot(df_total['hour'], bins=24, color='skyblue', edgecolor='black', stat='density', kde=False,alpha=0.6)\n",
    "# plt.title(\"Distribuzione oraria delle corse\")\n",
    "# plt.xlabel(\"Ora\")\n",
    "# plt.ylabel(\"Densità\")\n",
    "# plt.xticks(np.arange(0, 24, 1))\n",
    "# plt.show()\n",
    "# plt.legend()\n",
    "#center the plot in the middle\n",
    "# plt.xlim(xmin,xmax)\n",
    "# plt.show()\n",
    "#plot the instogram and the gaussian distribution centered in the middle\n",
    "plt.figure(figsize=(10, 6))\n",
    "plt.plot(x,p,'r-', lw=2 ,label='Gaussian fit' ) # Gaussian fit\n",
    "sns.histplot(df_total['hour'], bins=24, color='skyblue', edgecolor='black', stat='density', kde=False,alpha=0.6)\n",
    "#order the x axis and put the center of gayssian distribution in the middle\n",
    "plt.xlim(xmin,xmax)\n",
    "plt.title(\"Distribution of trips by hour\")\n",
    "plt.xlabel(\"Hour\")\n",
    "plt.ylabel(\"Density\")\n",
    "plt.xticks(np.arange(0, 24, 1))\n",
    "plt.show()\n",
    "plt.legend()\n",
    "\n",
    "# ha un errore sto codice poi lo vedo"
   ],
   "outputs": [],
   "execution_count": null
  },
  {
   "metadata": {},
   "cell_type": "markdown",
   "source": "#### barplot follow median and standard deviation (code 10)"
  },
  {
   "metadata": {},
   "cell_type": "code",
   "source": [
    "#! before run this you must run the code 1 and 2\n",
    "\n",
    "#order values from media, so they can follow the gaussian distribution\n",
    "df_total['distance_from_mean']=np.abs(df_total['hour']-mu)\n",
    "df_sorted=df_total.sort_values('distance_from_mean')\n",
    "\n",
    "#plot the barplot\n",
    "xmin,xmax=0,23\n",
    "x=np.linspace(xmin,xmax,100)\n",
    "p=norm.pdf(x,mu,std)\n",
    "\n",
    "plt.figure(figsize=(10,6))\n",
    "plt.plot(x, p, 'r-', lw=2, label='Gaussian fit')  # Gaussian fit\n",
    "sns.histplot(df_sorted['hour'], bins=24, color='skyblue', edgecolor='black', stat='density', kde=False, alpha=0.6)\n",
    "plt.title(\"Distribution of trips by hour\")\n",
    "plt.xlabel(\"Hour\")\n",
    "plt.ylabel(\"Density\")\n",
    "plt.xticks(np.arange(0, 24, 1))\n",
    "plt.legend()\n",
    "plt.show()"
   ],
   "outputs": [],
   "execution_count": null
  },
  {
   "metadata": {},
   "cell_type": "markdown",
   "source": "### anlaisys on  drip distance (code 11)"
  },
  {
   "metadata": {},
   "cell_type": "code",
   "source": [
    "#! before run this you must run the code 1 and 2\n",
    "\n",
    "plt.style.use('default')  \n",
    "sns.set_theme(style=\"white\")  # Set the style of the plots\n",
    "\n",
    "# Load the dataset in a DataFrame\n",
    "columns=['trip_distance']\n",
    "df_2015_01 = pd.read_csv(file_path1, usecols=columns)   # Load the dataset  in a DataFrame  \n",
    "df_2016_01 = pd.read_csv(file_path2, usecols=columns)\n",
    "df_2016_02 = pd.read_csv(file_path3, usecols=columns)\n",
    "df_2016_03 = pd.read_csv(file_path4, usecols=columns)\n",
    "\n",
    "# Filter date with trip distance between 0 and 100 miles\n",
    "df_total = pd.concat([df_2015_01, df_2016_01, df_2016_02, df_2016_03], ignore_index=True)\n",
    "df_total_filtered = df_total[(df_total['trip_distance'] > 0) & (df_total['trip_distance'] <= 40)]\n",
    "\n",
    "# Calculate the mean and standard deviation of the distribution\n",
    "mu, std = norm.fit(df_total_filtered['trip_distance'])\n",
    "\n",
    "# Create the Gaussian distribution\n",
    "x = np.linspace(0, 40, 80)\n",
    "p = norm.pdf(x, mu, std)        # Gaussian distribution\n",
    "\n",
    "# Plot the histogram and the Gaussian distribution\n",
    "plt.figure(figsize=(14, 8))\n",
    "sns.histplot(df_total_filtered['trip_distance'], bins=40, color='skyblue', edgecolor='black', stat='density', kde=False, alpha=0.6)\n",
    "plt.plot(x, p, 'r-', lw=2, label=f'Gaussian fit (μ={mu:.2f}, σ={std:.2f})')  # Curve of the Gaussian distribution\n",
    "plt.title(\"Distribuzione delle distanze dei viaggi (fino a 20 miglia)\")\n",
    "plt.xlabel(\"Distanza del viaggio (miglia)\")\n",
    "plt.ylabel(\"Densità\")\n",
    "plt.legend()\n",
    "plt.show()"
   ],
   "outputs": [],
   "execution_count": null
  },
  {
   "metadata": {},
   "cell_type": "markdown",
   "source": "### Analysis of the distribution of the trip duration by the hours (code 12)"
  },
  {
   "metadata": {},
   "cell_type": "code",
   "source": [
    "#! before run this you must run the code 1, 2  and 3\n",
    "# #unite all dataset in a single csv\n",
    "file_paths=[file_path2, file_path3, file_path4]\n",
    "def load_columns(file_paths, columns_envolved):\n",
    "    df_list = []\n",
    "    for file_path in file_paths:\n",
    "        # load only the columns of interest\n",
    "        df = pd.read_csv(file_path, usecols=columns_envolved)\n",
    "        # correct the name of the column RateCodeID\n",
    "        # df = df[df['RatecodeID'].isin([1, 6])]\n",
    "        if 'RateCodeID' in df.columns:\n",
    "            df.rename(columns={'RateCodeID': 'RatecodeID'}, inplace=True)\n",
    "        df_list.append(df)\n",
    "    # unite all the dataframes\n",
    "    return pd.concat(df_list, ignore_index=True)\n",
    "df_distance = load_columns(file_paths, columns_envolved=['trip_distance'])\n",
    "df_time_fase = load_columns(file_paths, columns_envolved=['trip_distance', 'tpep_pickup_datetime'])"
   ],
   "outputs": [],
   "execution_count": null
  },
  {
   "metadata": {},
   "cell_type": "code",
   "source": [
    "# 3. Cluster the data by the hour\n",
    "#df_ratecode_parzial = load_colums(file_paths, colums_envolved=['trip_distance', 'RatecodeID'])\n",
    "#filter ratecodeID between 0 and 6\n",
    "\n",
    "df_ratecode_parzial = load_columns(file_paths, columns_envolved=['trip_distance', 'RatecodeID', 'tpep_pickup_datetime'])\n",
    "df_2015_01_filtered = df_2015_01[['trip_distance', 'RatecodeID', 'tpep_pickup_datetime']]    # Load the dataset  in a DataFrame\n",
    "df_ratecode=pd.concat([df_2015_01_filtered, df_ratecode_parzial], ignore_index=True)\n",
    "# convert the column to datetime\n",
    "df_ratecode['tpep_pickup_datetime'] = pd.to_datetime(df_ratecode_parzial['tpep_pickup_datetime'])\n",
    "df_ratecode['pickup_hour'] = df_ratecode['tpep_pickup_datetime'].dt.hour\n",
    "\n",
    "# Calculate the number of trips for each hour\n",
    "trip_for_hour = df_ratecode.groupby('pickup_hour').size()"
   ],
   "outputs": [],
   "execution_count": null
  },
  {
   "metadata": {},
   "cell_type": "markdown",
   "source": "### code 13"
  },
  {
   "metadata": {},
   "cell_type": "code",
   "source": [
    "#! before run this you must run the code 1, 2 ,3 and 12\n",
    "\n",
    "distance_media_for_hour = df_ratecode.groupby('pickup_hour')['trip_distance'].mean()\n",
    "\n",
    "# Plot the number of trips and the average distance for each hour\n",
    "plt.figure(figsize=(12, 6))\n",
    "\n",
    "# Number of trips for each hour\n",
    "plt.subplot(2, 1, 1)\n",
    "trip_for_hour.plot(kind='bar', color='skyblue')\n",
    "plt.title('Numero di Viaggi per Ora')\n",
    "plt.xlabel('Ora del Giorno')\n",
    "plt.ylabel('Numero di Viaggi')\n",
    "plt.xticks(rotation=0)\n",
    "\n",
    "# Distance for each hour\n",
    "plt.subplot(2, 1, 2)\n",
    "distance_media_for_hour.plot(kind='line', marker='o', color='orange')\n",
    "plt.title('Distanza Media per Ora')\n",
    "plt.xlabel('Ora del Giorno')\n",
    "plt.ylabel('Distanza Media del Viaggio')\n",
    "plt.xticks(rotation=0)\n",
    "\n",
    "plt.tight_layout()\n",
    "plt.show()"
   ],
   "outputs": [],
   "execution_count": null
  },
  {
   "metadata": {},
   "cell_type": "markdown",
   "source": "### Crete realtions with ratecode and trip distance (code 14)"
  },
  {
   "metadata": {},
   "cell_type": "markdown",
   "source": [
    "### map of the trips (code 15)\n",
    "# exercise with folium"
   ]
  },
  {
   "metadata": {},
   "cell_type": "code",
   "source": [
    "columns_needed = [\n",
    "    'tpep_pickup_datetime', 'pickup_longitude', 'pickup_latitude',\n",
    "    'dropoff_longitude', 'dropoff_latitude'\n",
    "]\n",
    "\n",
    "df_2015_01 = pd.read_csv(file_path1, usecols=columns_needed)   # Load the dataset  in a DataFrame\n",
    "df_2016_01 = pd.read_csv(file_path2, usecols=columns_needed)\n",
    "df_2016_02 = pd.read_csv(file_path3, usecols=columns_needed)\n",
    "df_2016_03 = pd.read_csv(file_path4, usecols=columns_needed)\n",
    "#concate all the dataframes\n",
    "df= pd.concat([df_2015_01, df_2016_01, df_2016_02, df_2016_03], ignore_index=True)\n",
    "\n",
    "#convert the column to datetime\n",
    "df['tpep_pickup_datetime'] = pd.to_datetime(df['tpep_pickup_datetime'])\n",
    "\n",
    "# define the period of the day\n",
    "def get_hour_period(hour):\n",
    "    if 6 <= hour < 12:\n",
    "        return 'morning'\n",
    "    elif 12 <= hour < 18:\n",
    "        return 'afternoon'\n",
    "    elif 18 <= hour < 24:\n",
    "        return 'evening'\n",
    "    else:\n",
    "        return 'night'\n",
    "\n",
    "# create a column for the pickup period\n",
    "df['pickup_period'] = df['tpep_pickup_datetime'].dt.hour.apply(get_hour_period)\n",
    "\n",
    "# Filter the data only for the morning period\n",
    "df = df[(df['pickup_latitude'] != 0) & (df['pickup_longitude'] != 0) &\n",
    "        (df['dropoff_latitude'] != 0) & (df['dropoff_longitude'] != 0)]\n"
   ],
   "outputs": [],
   "execution_count": null
  },
  {
   "metadata": {},
   "cell_type": "code",
   "source": [
    "# Create the map centered on New York City\n",
    "nyc_map = folium.Map(location=[40.7128, -74.0060], zoom_start=12)\n",
    "\n",
    "# Add a cluster to group the points\n",
    "marker_cluster = MarkerCluster().add_to(nyc_map)\n",
    "\n",
    "# Group the most frequent routes\n",
    "for period in df['pickup_period'].unique():\n",
    "    period_data = df[df['pickup_period'] == period]\n",
    "    #   Group the most frequent routes\n",
    "    frequent_routes = period_data.groupby(['pickup_latitude', 'pickup_longitude', 'dropoff_latitude', 'dropoff_longitude']).size().reset_index(name='counts')\n",
    "    top_routes = frequent_routes.nlargest(40, 'counts') \n",
    "    \n",
    "    # Add the routes, the start and end markers on the map\n",
    "    for _, row in top_routes.iterrows():\n",
    "        folium.PolyLine(\n",
    "            locations=[(row['pickup_latitude'], row['pickup_longitude']), (row['dropoff_latitude'], row['dropoff_longitude'])],\n",
    "            color='blue' if period == 'morning' else 'green' if period == 'afternoon' else 'orange' if period == 'evening' else 'purple',\n",
    "            weight=20,\n",
    "            opacity=1  \n",
    "        ).add_to(marker_cluster)\n",
    "\n",
    "\n",
    "# Show the map\n",
    "nyc_map"
   ],
   "outputs": [],
   "execution_count": null
  },
  {
   "metadata": {},
   "cell_type": "markdown",
   "source": "### Antoher tipe of maps (code 16) Clusterizzazione per Tratte"
  },
  {
   "metadata": {},
   "cell_type": "code",
   "source": [
    "# Filter only the data for the morning\n",
    "morning_data = df[df['pickup_period'] == 'morning']\n",
    "\n",
    "# create a map centered on New York City\n",
    "nyc_map = folium.Map(location=[40.7128, -74.0060], zoom_start=12)\n",
    "\n",
    "# add a cluster to group the points\n",
    "marker_cluster = MarkerCluster().add_to(nyc_map)\n",
    "\n",
    "# gruop the most frequent routes\n",
    "frequent_routes = morning_data.groupby(\n",
    "    ['pickup_latitude', 'pickup_longitude', 'dropoff_latitude', 'dropoff_longitude']\n",
    ").size().reset_index(name='counts')\n",
    "top_routes = frequent_routes.nlargest(40, 'counts')  # Prendiamo le 40 tratte più comuni\n",
    "\n",
    "# add the routes, the start and end markers on the map\n",
    "for _, row in top_routes.iterrows():\n",
    "    # trip\n",
    "    folium.PolyLine(\n",
    "        locations=[\n",
    "            (row['pickup_latitude'], row['pickup_longitude']),\n",
    "            (row['dropoff_latitude'], row['dropoff_longitude'])\n",
    "        ],\n",
    "        color='blue',  # Colore per il tragitto\n",
    "        weight=5,      # Spessore della linea\n",
    "        opacity=0.7    # Opacità per il tragitto\n",
    "    ).add_to(marker_cluster)\n",
    "\n",
    "    # Marker pickup\n",
    "    folium.Marker(\n",
    "        location=(row['pickup_latitude'], row['pickup_longitude']),\n",
    "        icon=folium.Icon(color='blue', icon='play', prefix='fa'),  # Icona per identificare il punto di partenza\n",
    "        popup='Partenza'\n",
    "    ).add_to(marker_cluster)\n",
    "\n",
    "    # Marker dropoff\n",
    "    folium.Marker(\n",
    "        location=(row['dropoff_latitude'], row['dropoff_longitude']),\n",
    "        icon=folium.Icon(color='red', icon='flag', prefix='fa'),  # Icona per identificare il punto di arrivo\n",
    "        popup='Arrivo'\n",
    "    ).add_to(marker_cluster)\n",
    "\n",
    "# Visualizza la mappa\n",
    "nyc_map\n",
    "# todo: problem whit association of the points"
   ],
   "outputs": [],
   "execution_count": null
  },
  {
   "metadata": {},
   "cell_type": "markdown",
   "source": "### Data visualizazion ten most pick up e drop off points (code 17)"
  },
  {
   "metadata": {},
   "cell_type": "code",
   "source": [
    "# Filter only the data for the morning\n",
    "morning_data = df[df['pickup_period'] == 'morning']\n",
    "\n",
    "# Find the 10 most frequent pickup points\n",
    "top_pickups = morning_data.groupby(['pickup_latitude', 'pickup_longitude']).size().reset_index(name='counts')\n",
    "top_pickups = top_pickups.nlargest(10, 'counts').sort_values(by='counts', ascending=False)  # Ordinati per frequenza\n",
    "\n",
    "# Find the 10 most frequent dropoff points\n",
    "top_dropoffs = morning_data.groupby(['dropoff_latitude', 'dropoff_longitude']).size().reset_index(name='counts')\n",
    "top_dropoffs = top_dropoffs.nlargest(10, 'counts').sort_values(by='counts', ascending=False)  # Ordinati per frequenza\n",
    "\n",
    "# Create the map\n",
    "nyc_map = folium.Map(location=[40.7128, -74.0060], zoom_start=12)\n",
    "\n",
    "# Cluster for pickup and dropoff points (is not important in ten most pick up and drop off points)\n",
    "pickup_cluster = MarkerCluster(name='Top 10 Pickup Points - Morning').add_to(nyc_map)\n",
    "dropoff_cluster = MarkerCluster(name='Top 10 Dropoff Points - Morning').add_to(nyc_map)\n",
    "\n",
    "# Add the pickup points with explicit index\n",
    "f=0\n",
    "for index, row in top_pickups.iterrows():\n",
    "    f += 1  # Incrementa f\n",
    "    folium.Marker(\n",
    "        location=(row['pickup_latitude'], row['pickup_longitude']),\n",
    "        icon=folium.Icon(color='blue', icon='play', prefix='fa'),\n",
    "        popup=f'Questo è il numero {f} di punti di partenza (frequenza: {row[\"counts\"]})'  # Indice corretto\n",
    "    ).add_to(pickup_cluster)\n",
    "\n",
    "# Add the dropoff points with explicit index\n",
    "k = 0  \n",
    "for index, row in top_dropoffs.iterrows():\n",
    "    k += 1  # increments k\n",
    "    folium.Marker(\n",
    "        location=(row['dropoff_latitude'], row['dropoff_longitude']),\n",
    "        icon=folium.Icon(color='red', icon='flag', prefix='fa'),\n",
    "        popup=f'Questo è il numero {k} di punti di arrivo (frequenza: {row[\"counts\"]})'  # Indice corretto\n",
    "    ).add_to(dropoff_cluster)\n",
    "\n",
    "# add a layer control\n",
    "folium.LayerControl().add_to(nyc_map)\n",
    "\n",
    "# show the map\n",
    "nyc_map\n",
    "#!!!!!! todo:  problem with the zoom of map"
   ],
   "outputs": [],
   "execution_count": null
  },
  {
   "metadata": {},
   "cell_type": "markdown",
   "source": "### Clusterinf big data visualization (code 17)"
  },
  {
   "metadata": {},
   "cell_type": "code",
   "source": [
    "# Filter only the data for the morning\n",
    "morning_data = df[df['pickup_period'] == 'morning']\n",
    "\n",
    "# Find the 100 most frequent pickup points\n",
    "top_pickups = morning_data.groupby(['pickup_latitude', 'pickup_longitude']).size().reset_index(name='counts')\n",
    "top_pickups = top_pickups.nlargest(100, 'counts').sort_values(by='counts', ascending=False)  # Ordinati per frequenza\n",
    "\n",
    "# Find the 100 most frequent dropoff points\n",
    "top_dropoffs = morning_data.groupby(['dropoff_latitude', 'dropoff_longitude']).size().reset_index(name='counts')\n",
    "top_dropoffs = top_dropoffs.nlargest(100, 'counts').sort_values(by='counts', ascending=False)  # Ordinati per frequenza\n",
    "\n",
    "# Create the map\n",
    "nyc_map = folium.Map(location=[40.7128, -74.0060], zoom_start=12)\n",
    "\n",
    "# Cluster for pickup and dropoff points\n",
    "pickup_cluster = MarkerCluster(name='Top 10 Pickup Points - Morning').add_to(nyc_map)\n",
    "dropoff_cluster = MarkerCluster(name='Top 10 Dropoff Points - Morning').add_to(nyc_map)\n",
    "\n",
    "# Add the pickup points with explicit index\n",
    "for index, row in top_pickups.iterrows():\n",
    "    folium.Marker(\n",
    "        location=(row['pickup_latitude'], row['pickup_longitude']),\n",
    "        icon=folium.Icon(color='blue', icon='play', prefix='fa'),\n",
    "        popup=f'Punto di partenza #{index + 1} (frequenza: {row[\"counts\"]})'  # Indice corretto\n",
    "    ).add_to(pickup_cluster)\n",
    "\n",
    "# Add the dropoff points with explicit index\n",
    "k = 0 \n",
    "for index, row in top_dropoffs.iterrows():\n",
    "    k += 1  \n",
    "    folium.Marker(\n",
    "        location=(row['dropoff_latitude'], row['dropoff_longitude']),\n",
    "        icon=folium.Icon(color='red', icon='flag', prefix='fa'),\n",
    "        popup=f'Punto di arrivo #{k} (frequenza: {row[\"counts\"]})'  # Indice corretto\n",
    "    ).add_to(dropoff_cluster)\n",
    "\n",
    "# \n",
    "for _, pickup in top_pickups.iterrows():\n",
    "    for _, dropoff in top_dropoffs.iterrows():\n",
    "        # Check if the route is in the morning data\n",
    "        route_data = morning_data[\n",
    "            (morning_data['pickup_latitude'] == pickup['pickup_latitude']) &\n",
    "            (morning_data['pickup_longitude'] == pickup['pickup_longitude']) &\n",
    "            (morning_data['dropoff_latitude'] == dropoff['dropoff_latitude']) &\n",
    "            (morning_data['dropoff_longitude'] == dropoff['dropoff_longitude'])\n",
    "        ]\n",
    "        \n",
    "        if not route_data.empty:\n",
    "            folium.PolyLine(\n",
    "                locations=[(pickup['pickup_latitude'], pickup['pickup_longitude']),\n",
    "                           (dropoff['dropoff_latitude'], dropoff['dropoff_longitude'])],\n",
    "                color='green',\n",
    "                weight=2,\n",
    "                opacity=0.5\n",
    "            ).add_to(nyc_map)\n",
    "\n",
    "# Add a layer control\n",
    "folium.LayerControl().add_to(nyc_map)\n",
    "\n",
    "# Show the map\n",
    "nyc_map\n"
   ],
   "outputs": [],
   "execution_count": null
  }
 ],
 "metadata": {
  "language_info": {
   "name": "python"
  },
  "kernelspec": {
   "name": "python3",
   "language": "python",
   "display_name": "Python 3 (ipykernel)"
  }
 },
 "nbformat": 4,
 "nbformat_minor": 2
}
