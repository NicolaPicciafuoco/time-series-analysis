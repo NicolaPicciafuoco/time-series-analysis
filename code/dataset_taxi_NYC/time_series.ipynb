{
 "cells": [
  {
   "metadata": {},
   "cell_type": "markdown",
   "source": "# Time Series Analysis of NYC Yellow Taxi Trips",
   "id": "c49c2a6fa96d0666"
  },
  {
   "metadata": {},
   "cell_type": "code",
   "source": [
    "%pip install kagglehub\n",
    "%pip install pandas\n",
    "%pip install matplotlib\n",
    "%pip install numpy\n",
    "%pip install seaborn\n",
    "%pip install statsmodels\n",
    "%pip install pmdarima\n",
    "\n",
    "import kagglehub\n",
    "import seaborn as sns\n",
    "import numpy as np\n",
    "import pandas as pd\n",
    "import os\n",
    "import matplotlib.pyplot as plt\n",
    "from datetime import datetime\n",
    "from statsmodels.tsa.stattools import adfuller\n",
    "from statsmodels.graphics.tsaplots import plot_acf, plot_pacf\n",
    "from statsmodels.tsa.arima.model import ARIMA\n",
    "import statsmodels.api as sm\n",
    "from pmdarima import auto_arima  # Per ottimizzazione automatica dei parametri"
   ],
   "id": "e44cab84b86065d4",
   "outputs": [],
   "execution_count": null
  },
  {
   "metadata": {},
   "cell_type": "markdown",
   "source": "## Dataset loading",
   "id": "1e1f46007a19354c"
  },
  {
   "metadata": {},
   "cell_type": "code",
   "source": [
    "path = kagglehub.dataset_download(\"elemento/nyc-yellow-taxi-trip-data\")\n",
    "file_path1 = os.path.join(path, \"yellow_tripdata_2015-01.csv\")\n",
    "file_path2 = os.path.join(path, \"yellow_tripdata_2016-01.csv\")\n",
    "file_path3 = os.path.join(path, \"yellow_tripdata_2016-02.csv\")\n",
    "file_path4 = os.path.join(path, \"yellow_tripdata_2016-03.csv\")\n"
   ],
   "id": "9a572f27766e4304",
   "outputs": [],
   "execution_count": null
  },
  {
   "metadata": {},
   "cell_type": "code",
   "source": [
    "# Columns of interest\n",
    "columns = ['tpep_pickup_datetime', 'tpep_dropoff_datetime', 'trip_distance', 'fare_amount', 'total_amount']\n",
    "\n",
    "# Load the dataset into a pandas dataframe\n",
    "dfs = [pd.read_csv(f, usecols=columns, parse_dates=['tpep_pickup_datetime', 'tpep_dropoff_datetime']) for f in \n",
    "       [file_path1, file_path2, file_path3, file_path4]]\n",
    "df = pd.concat(dfs, ignore_index=True)"
   ],
   "id": "99f9c6723bd9cd6d",
   "outputs": [],
   "execution_count": null
  },
  {
   "metadata": {},
   "cell_type": "markdown",
   "source": "## Data cleaning",
   "id": "f6d3538973ff33d2"
  },
  {
   "metadata": {},
   "cell_type": "code",
   "source": [
    "df.dropna(subset=columns, inplace=True)\n",
    "df = df[(df['trip_distance'] > 0) & (df['fare_amount'] > 0) & (df['total_amount'] > 0)]"
   ],
   "id": "81289552a1e2a23d",
   "outputs": [],
   "execution_count": null
  },
  {
   "metadata": {},
   "cell_type": "markdown",
   "source": "## Time variables creation",
   "id": "3cd83bc44a25e132"
  },
  {
   "metadata": {},
   "cell_type": "code",
   "source": [
    "df['pickup_date'] = df['tpep_pickup_datetime'].dt.date\n",
    "df['trip_duration'] = (df['tpep_dropoff_datetime'] - df['tpep_pickup_datetime']).dt.total_seconds() / 60\n",
    "df = df[(df['trip_duration'] > 0) & (df['trip_duration'] < 240)]"
   ],
   "id": "fb37d0347921c717",
   "outputs": [],
   "execution_count": null
  },
  {
   "metadata": {},
   "cell_type": "code",
   "source": [
    "# Calculate the average duration of trips for each day\n",
    "daily_avg_duration = df.groupby('pickup_date')['trip_duration'].mean()\n",
    "\n",
    "# Visualize the trend of the average trip duration\n",
    "plt.figure(figsize=(14, 7))\n",
    "daily_avg_duration.plot()\n",
    "plt.title('Average trip duration per day')\n",
    "plt.xlabel('Date')\n",
    "plt.ylabel('Average trip duration (minutes)')\n",
    "plt.show()"
   ],
   "id": "12463e014a6400ea",
   "outputs": [],
   "execution_count": null
  },
  {
   "metadata": {},
   "cell_type": "markdown",
   "source": "## Stationarity analysis",
   "id": "418529762a417313"
  },
  {
   "metadata": {},
   "cell_type": "code",
   "source": [
    "daily_trips = df.groupby('pickup_date').size()\n",
    "\n",
    "ts_daily_trips = daily_trips.copy()\n",
    "ts_daily_trips.index = pd.to_datetime(ts_daily_trips.index)\n",
    "ts_daily_trips = ts_daily_trips.asfreq('D', fill_value=0)"
   ],
   "id": "767a5cc3b4ac67e6",
   "outputs": [],
   "execution_count": null
  },
  {
   "metadata": {},
   "cell_type": "code",
   "source": [
    "plt.figure(figsize=(14, 7))\n",
    "ts_daily_trips.plot()\n",
    "plt.title('Daily NYC Taxi Trips')\n",
    "plt.xlabel('Date')\n",
    "plt.ylabel('Number of Trips')\n",
    "plt.grid()\n",
    "plt.show()"
   ],
   "id": "8d8e6e7209a2e1d1",
   "outputs": [],
   "execution_count": null
  },
  {
   "metadata": {},
   "cell_type": "code",
   "source": [
    "def test_stationarity_with_interpretation(timeseries):\n",
    "    result = adfuller(timeseries)\n",
    "    print('=== Augmented Dickey-Fuller Test ===')\n",
    "    print(f'ADF Statistic: {result[0]:.4f}')\n",
    "    print(f'p-value: {result[1]:.4f}')\n",
    "    print('Critical Values:')\n",
    "    for key, value in result[4].items():\n",
    "        print(f'   {key}: {value:.4f}')\n",
    "    \n",
    "    # Interpretazione del risultato\n",
    "    if result[1] <= 0.05:\n",
    "        print(\"\\n✅ La serie è stazionaria\")\n",
    "    else:\n",
    "        print(\"\\n❌ La serie NON è stazionaria\")\n",
    "\n",
    "# Test sulla serie originale\n",
    "print(\"\\n[TEST SULLA SERIE ORIGINALE]\")\n",
    "test_stationarity_with_interpretation(ts_daily_trips)"
   ],
   "id": "6620b3180cc3922e",
   "outputs": [],
   "execution_count": null
  },
  {
   "metadata": {},
   "cell_type": "code",
   "source": [
    "ts_daily_trips_diff = ts_daily_trips.diff().dropna()\n",
    "print(\"\\n[TEST SULLA SERIE DIFFERENZIATA]\")\n",
    "test_stationarity_with_interpretation(ts_daily_trips_diff)"
   ],
   "id": "b23017754169c80",
   "outputs": [],
   "execution_count": null
  },
  {
   "metadata": {},
   "cell_type": "markdown",
   "source": "The $p$-value is less than $0.05$, which means that we can reject the null hypothesis that the time series is non-stationary. The time series is stationary.",
   "id": "db3a8ba06ae16de1"
  },
  {
   "metadata": {},
   "cell_type": "code",
   "source": [
    "plt.figure(figsize=(14, 7))\n",
    "plt.subplot(2, 1, 1)\n",
    "ts_daily_trips.plot(ax=plt.gca())\n",
    "plt.title('Serie Originale')\n",
    "plt.xlabel('Date')\n",
    "plt.ylabel('Numero di Viaggi')\n",
    "plt.grid()\n",
    "\n",
    "plt.subplot(2, 1, 2)\n",
    "ts_daily_trips_diff.plot(ax=plt.gca(), color='orange')\n",
    "plt.title('Serie Differenziata (Primo Ordine)')\n",
    "plt.xlabel('Date')\n",
    "plt.ylabel('Differenza Numero di Viaggi')\n",
    "plt.grid()\n",
    "plt.tight_layout()\n",
    "plt.show()"
   ],
   "id": "d4c4650a6b5304f8",
   "outputs": [],
   "execution_count": null
  },
  {
   "metadata": {},
   "cell_type": "markdown",
   "source": "### Automatic optimization of parameters with auto_arima",
   "id": "795dd4bcb2d52a4d"
  },
  {
   "metadata": {},
   "cell_type": "code",
   "source": [
    "auto_arima_model = auto_arima(ts_daily_trips, seasonal=True, m=7, trace=True, error_action='ignore', suppress_warnings=True)\n",
    "print(\"Best ARIMA model:\", auto_arima_model.summary())"
   ],
   "id": "1c85f54b80f1ab7c",
   "outputs": [],
   "execution_count": null
  },
  {
   "metadata": {},
   "cell_type": "markdown",
   "source": [
    "## ARIMA-SARIMA models\n",
    "### p, d, q parameters"
   ],
   "id": "cbb39161f6cb1fe0"
  },
  {
   "metadata": {},
   "cell_type": "code",
   "source": [
    "from statsmodels.graphics.tsaplots import plot_acf, plot_pacf\n",
    "\n",
    "plt.figure(figsize=(12, 6))\n",
    "plt.subplot(121)\n",
    "plot_acf(ts_daily_trips_diff, ax=plt.gca(), lags=20)\n",
    "plt.subplot(122)\n",
    "plot_pacf(ts_daily_trips_diff, ax=plt.gca(), lags=20)\n",
    "plt.show()"
   ],
   "id": "e43465fc70519b94",
   "outputs": [],
   "execution_count": null
  },
  {
   "metadata": {},
   "cell_type": "code",
   "source": [
    "model = ARIMA(ts_daily_trips_diff, order=(4,1,2))\n",
    "\n",
    "arima_fit = model.fit()\n",
    "\n",
    "print(\"\\n=== ARIMA Model Summary ===\")\n",
    "print(arima_fit.summary())"
   ],
   "id": "995e3d7a464375ce",
   "outputs": [],
   "execution_count": null
  },
  {
   "metadata": {},
   "cell_type": "code",
   "source": [
    "# Diagnostic plots\n",
    "arima_fit.plot_diagnostics(figsize=(12,8))\n",
    "plt.show()"
   ],
   "id": "e8cb4195f6f8bde6",
   "outputs": [],
   "execution_count": null
  },
  {
   "metadata": {},
   "cell_type": "code",
   "source": [
    "model_sarima = sm.tsa.statespace.SARIMAX(ts_daily_trips, order=(4, 1, 2))\n",
    "sarima_fit = model_sarima.fit()\n",
    "\n",
    "print(sarima_fit.summary())"
   ],
   "id": "e51a41f0332c0244",
   "outputs": [],
   "execution_count": null
  },
  {
   "metadata": {},
   "cell_type": "code",
   "source": [
    "sarima_fit.plot_diagnostics(figsize=(12, 8))\n",
    "plt.show()"
   ],
   "id": "296f7de7171b9b64",
   "outputs": [],
   "execution_count": null
  },
  {
   "metadata": {},
   "cell_type": "code",
   "source": [
    "forecast_arima = arima_fit.get_forecast(steps=7)\n",
    "forecast_sarima = sarima_fit.get_forecast(steps=7)\n",
    "forecast_arima_ci = forecast_arima.conf_int()\n",
    "forecast_sarima_ci = forecast_sarima.conf_int()\n",
    "\n",
    "plt.figure(figsize=(14, 7))\n",
    "plt.plot(ts_daily_trips, label='Observed')\n",
    "plt.plot(forecast_arima.predicted_mean.index, forecast_arima.predicted_mean.values, label='ARIMA Forecast', color='red')\n",
    "plt.fill_between(forecast_arima_ci.index, forecast_arima_ci.iloc[:, 0], forecast_arima_ci.iloc[:, 1], color='red', alpha=0.3)\n",
    "plt.plot(forecast_sarima.predicted_mean.index, forecast_sarima.predicted_mean.values, label='SARIMA Forecast', color='green')\n",
    "plt.fill_between(forecast_sarima_ci.index, forecast_sarima_ci.iloc[:, 0], forecast_sarima_ci.iloc[:, 1], color='green', alpha=0.3)\n",
    "plt.title('Forecast Comparison')\n",
    "plt.xlabel('Date')\n",
    "plt.ylabel('Number of Trips')\n",
    "plt.legend()\n",
    "plt.grid()\n",
    "plt.show()"
   ],
   "id": "3c75a1da83f26f39",
   "outputs": [],
   "execution_count": null
  },
  {
   "metadata": {},
   "cell_type": "code",
   "source": "",
   "id": "10b13ab62d1b169b",
   "outputs": [],
   "execution_count": null
  },
  {
   "metadata": {},
   "cell_type": "markdown",
   "source": [
    "- La previsione ARIMA rappresenta i valori differenziati. Per tornare alla scala originale, dovremmo applicare l'inverso della differenziazione.\n",
    "- Gli intervalli di confidenza visualizzati indicano l'incertezza associata alla previsione.\n",
    "- Rispetto ad ARIMA, SARIMA considera anche la stagionalità (settimanale in questo caso)."
   ],
   "id": "7a054020746aca61"
  },
  {
   "metadata": {},
   "cell_type": "markdown",
   "source": [
    "## Hour based analysis\n",
    "\n",
    "Escludiamo il file CSV relativo a gennaio 2015 in modo tale da ottenere una sottosezione dell'intero dataset relativa al periodo gennaio2016-febbario2016. In questo modo, in quell'intervallo i dati potranno essere aggragati su base oraria con intervalli uniformi tra ogni osservazione"
   ],
   "id": "e88ea5f6538f5fe5"
  },
  {
   "metadata": {},
   "cell_type": "code",
   "source": [
    "# Specificare i file rilevanti per gennaio, febbraio e marzo 2016\n",
    "hour_dfs = [pd.read_csv(f, usecols=columns, parse_dates=['tpep_pickup_datetime', 'tpep_dropoff_datetime']) \n",
    "            for f in [file_path2, file_path3, file_path4]]\n",
    "hour_df = pd.concat(hour_dfs, ignore_index=True)"
   ],
   "id": "88d1ed18d4dd781b",
   "outputs": [],
   "execution_count": null
  },
  {
   "metadata": {},
   "cell_type": "code",
   "source": [
    "# Rimuovere righe con valori nulli\n",
    "hour_df.dropna(subset=columns, inplace=True)\n",
    "\n",
    "# Filtrare viaggi con valori negativi o anomali\n",
    "hour_df = hour_df[(hour_df['trip_distance'] > 0) & \n",
    "                  (hour_df['fare_amount'] > 0) & \n",
    "                  (hour_df['total_amount'] > 0)]\n",
    "\n",
    "# Calcolare la durata del viaggio\n",
    "hour_df['trip_duration'] = (hour_df['tpep_dropoff_datetime'] - hour_df['tpep_pickup_datetime']).dt.total_seconds() / 60\n",
    "\n",
    "# Filtrare viaggi con durata negativa o eccessiva (>4 ore)\n",
    "hour_df = hour_df[(hour_df['trip_duration'] > 0) & (hour_df['trip_duration'] < 240)]"
   ],
   "id": "a48c1663885b3c3e",
   "outputs": [],
   "execution_count": null
  },
  {
   "metadata": {},
   "cell_type": "code",
   "source": [
    "# Creare un indice temporale arrotondando al più vicino inizio dell'ora\n",
    "hour_df['pickup_hour'] = hour_df['tpep_pickup_datetime'].dt.floor('H')\n",
    "\n",
    "# Aggregare il numero di viaggi per ogni ora\n",
    "hourly_trips = hour_df.groupby('pickup_hour').size()\n",
    "\n",
    "# Trasformare in una serie temporale con frequenza fissa\n",
    "hourly_ts = hourly_trips.asfreq('H', fill_value=0)"
   ],
   "id": "d7f9d3f60462b0f",
   "outputs": [],
   "execution_count": null
  },
  {
   "metadata": {},
   "cell_type": "code",
   "source": [
    "plt.figure(figsize=(14, 7))\n",
    "hourly_ts.plot()\n",
    "plt.title('Numero di viaggi per ora (gennaio-febbraio 2016)')\n",
    "plt.xlabel('Ora')\n",
    "plt.ylabel('Numero di viaggi')\n",
    "plt.grid()\n",
    "plt.show()\n"
   ],
   "id": "be5389aa62715905",
   "outputs": [],
   "execution_count": null
  },
  {
   "metadata": {},
   "cell_type": "code",
   "source": [
    "print(\"\\n[TEST SULLA SERIE ORIGINALE]\")\n",
    "test_stationarity_with_interpretation(hourly_ts)"
   ],
   "id": "d1b798ff7d7ced25",
   "outputs": [],
   "execution_count": null
  },
  {
   "metadata": {},
   "cell_type": "code",
   "source": [
    "auto_arima_model = auto_arima(hourly_ts, seasonal=True, m=7, trace=True, error_action='ignore', suppress_warnings=True)\n",
    "print(\"Best ARIMA model:\", auto_arima_model.summary())"
   ],
   "id": "84d59d1c26a4207d",
   "outputs": [],
   "execution_count": null
  },
  {
   "metadata": {},
   "cell_type": "code",
   "source": [
    "plt.figure(figsize=(12, 6))\n",
    "plt.subplot(121)\n",
    "plot_acf(hourly_ts, ax=plt.gca(), lags=20)\n",
    "plt.subplot(122)\n",
    "plot_pacf(hourly_ts, ax=plt.gca(), lags=20)\n",
    "plt.show()"
   ],
   "id": "f0fc4c8d4aa39a2b",
   "outputs": [],
   "execution_count": null
  },
  {
   "metadata": {},
   "cell_type": "code",
   "source": [
    "hourly_arima_model = ARIMA(hourly_ts, order=(4,1,2), seasonal_order=(0, 0, 1, 24))\n",
    "\n",
    "hourly_arima_fit = hourly_arima_model.fit()\n",
    "\n",
    "print(\"\\n=== ARIMA Model Summary ===\")\n",
    "print(hourly_arima_fit.summary())"
   ],
   "id": "56922e09128ae009",
   "outputs": [],
   "execution_count": null
  },
  {
   "metadata": {},
   "cell_type": "code",
   "source": [
    "hourly_arima_fit.plot_diagnostics(figsize=(12,8))\n",
    "plt.show()"
   ],
   "id": "1f1ac895195a0448",
   "outputs": [],
   "execution_count": null
  },
  {
   "metadata": {},
   "cell_type": "code",
   "source": [
    "hourly_model_sarima = sm.tsa.statespace.SARIMAX(hourly_ts, order=(4, 1, 2), seasonal_order=(0, 0, 1, 7))\n",
    "hourly_sarima_fit = hourly_model_sarima.fit()\n",
    "\n",
    "print(hourly_sarima_fit.summary())"
   ],
   "id": "bf2b881320d19b35",
   "outputs": [],
   "execution_count": null
  },
  {
   "metadata": {},
   "cell_type": "code",
   "source": [
    "hourly_sarima_fit.plot_diagnostics(figsize=(12, 8))\n",
    "plt.show()"
   ],
   "id": "f3038faaf7e7a19b",
   "outputs": [],
   "execution_count": null
  },
  {
   "metadata": {},
   "cell_type": "code",
   "source": [
    "hourly_forecast_arima = hourly_arima_fit.get_forecast(steps=24*3)\n",
    "hourly_forecast_sarima = hourly_sarima_fit.get_forecast(steps=24*3)\n",
    "hourly_forecast_arima_ci = hourly_forecast_arima.conf_int()\n",
    "hourly_forecast_sarima_ci = hourly_forecast_sarima.conf_int()\n",
    "\n",
    "plt.figure(figsize=(14, 7))\n",
    "plt.plot(hourly_ts, label='Observed')\n",
    "plt.plot(hourly_forecast_arima.predicted_mean.index, hourly_forecast_arima.predicted_mean.values, label='ARIMA Forecast', color='red')\n",
    "plt.fill_between(hourly_forecast_arima_ci.index, hourly_forecast_arima_ci.iloc[:, 0], hourly_forecast_arima_ci.iloc[:, 1], color='red', alpha=0.3)\n",
    "plt.plot(hourly_forecast_sarima.predicted_mean.index, hourly_forecast_sarima.predicted_mean.values, label='SARIMA Forecast', color='green')\n",
    "plt.fill_between(hourly_forecast_sarima_ci.index, hourly_forecast_sarima_ci.iloc[:, 0], hourly_forecast_sarima_ci.iloc[:, 1], color='green', alpha=0.3)\n",
    "plt.title('Forecast Comparison')\n",
    "plt.xlabel('Date')\n",
    "plt.ylabel('Number of Trips')\n",
    "plt.legend()\n",
    "plt.grid()\n",
    "plt.show()"
   ],
   "id": "35ff81173793ea20",
   "outputs": [],
   "execution_count": null
  }
 ],
 "metadata": {
  "kernelspec": {
   "display_name": "Python 3",
   "language": "python",
   "name": "python3"
  },
  "language_info": {
   "codemirror_mode": {
    "name": "ipython",
    "version": 2
   },
   "file_extension": ".py",
   "mimetype": "text/x-python",
   "name": "python",
   "nbconvert_exporter": "python",
   "pygments_lexer": "ipython2",
   "version": "2.7.6"
  }
 },
 "nbformat": 4,
 "nbformat_minor": 5
}
